{
 "cells": [
  {
   "cell_type": "markdown",
   "id": "016a957e-ce6e-4c99-bc0b-f0a3e6bbbe33",
   "metadata": {},
   "source": [
    "# Introduction to Numpy"
   ]
  },
  {
   "cell_type": "code",
   "execution_count": 1,
   "id": "58eea9cb-a99b-4745-89ad-09197da45173",
   "metadata": {},
   "outputs": [],
   "source": [
    "import numpy as np"
   ]
  },
  {
   "cell_type": "markdown",
   "id": "e1171272-e7b7-4887-80ff-66c03f9580bb",
   "metadata": {},
   "source": [
    "## 1. Data Types and Data Structure"
   ]
  },
  {
   "cell_type": "markdown",
   "id": "90655fdf-35e4-4c2b-97e0-6d4228d9d8a3",
   "metadata": {},
   "source": [
    "### Numpy Array"
   ]
  },
  {
   "cell_type": "code",
   "execution_count": 3,
   "id": "fc4d43d1-47a7-4ee9-83c9-6cb6cbf93970",
   "metadata": {},
   "outputs": [
    {
     "data": {
      "text/plain": [
       "array([1, 2, 3])"
      ]
     },
     "execution_count": 3,
     "metadata": {},
     "output_type": "execute_result"
    }
   ],
   "source": [
    "# 1 dimensional array\n",
    "a1 = np.array([ 1, 2, 3])\n",
    "a1"
   ]
  },
  {
   "cell_type": "code",
   "execution_count": 4,
   "id": "546d764d-b698-4faa-980d-1b8e882ee06f",
   "metadata": {},
   "outputs": [
    {
     "data": {
      "text/plain": [
       "array([[12. , 32.3, 50. ],\n",
       "       [ 5.5, 73. , 10. ]])"
      ]
     },
     "execution_count": 4,
     "metadata": {},
     "output_type": "execute_result"
    }
   ],
   "source": [
    "# 2 dimensional array\n",
    "a2 = np.array([[12, 32.3, 50], [5.5, 73, 10]])\n",
    "a2"
   ]
  },
  {
   "cell_type": "code",
   "execution_count": 5,
   "id": "14464f90-9ace-4acb-b803-2e485c4746ea",
   "metadata": {},
   "outputs": [
    {
     "data": {
      "text/plain": [
       "array([[[ 1,  2,  3],\n",
       "        [ 4,  5,  6],\n",
       "        [ 7,  8,  9]],\n",
       "\n",
       "       [[10, 11, 12],\n",
       "        [13, 14, 15],\n",
       "        [16, 17, 18]]])"
      ]
     },
     "execution_count": 5,
     "metadata": {},
     "output_type": "execute_result"
    }
   ],
   "source": [
    "# 3 dimensional array\n",
    "a3 = np.array([\n",
    "    [[1, 2, 3], \n",
    "     [4, 5, 6], \n",
    "     [7, 8, 9]],\n",
    "    [[10, 11, 12], \n",
    "     [13, 14, 15], \n",
    "     [16, 17, 18]]\n",
    "])\n",
    "a3"
   ]
  },
  {
   "cell_type": "markdown",
   "id": "3a60e875-1a6c-4782-8d8a-3b2d0d7f1765",
   "metadata": {},
   "source": [
    "### Properties"
   ]
  },
  {
   "cell_type": "code",
   "execution_count": 6,
   "id": "27f5184b-20ae-4258-99d5-dcc364dd0ec4",
   "metadata": {},
   "outputs": [
    {
     "data": {
      "text/plain": [
       "(numpy.ndarray, numpy.ndarray, numpy.ndarray)"
      ]
     },
     "execution_count": 6,
     "metadata": {},
     "output_type": "execute_result"
    }
   ],
   "source": [
    "type(a1), type(a2), type(a3)"
   ]
  },
  {
   "cell_type": "code",
   "execution_count": 7,
   "id": "a185431f-ccd8-43b2-9ab8-e3bbe276db67",
   "metadata": {},
   "outputs": [
    {
     "data": {
      "text/plain": [
       "((3,), (2, 3), (2, 3, 3))"
      ]
     },
     "execution_count": 7,
     "metadata": {},
     "output_type": "execute_result"
    }
   ],
   "source": [
    "a1.shape, a2.shape, a3.shape"
   ]
  },
  {
   "cell_type": "code",
   "execution_count": 8,
   "id": "60bed886-0f98-412c-8842-94b89cc0a248",
   "metadata": {},
   "outputs": [
    {
     "data": {
      "text/plain": [
       "(1, 2, 3)"
      ]
     },
     "execution_count": 8,
     "metadata": {},
     "output_type": "execute_result"
    }
   ],
   "source": [
    "a1.ndim, a2.ndim, a3.ndim"
   ]
  },
  {
   "cell_type": "code",
   "execution_count": 9,
   "id": "b5675b1b-afea-45c6-8375-edb5684a23a2",
   "metadata": {},
   "outputs": [
    {
     "data": {
      "text/plain": [
       "(dtype('int32'), dtype('float64'), dtype('int32'))"
      ]
     },
     "execution_count": 9,
     "metadata": {},
     "output_type": "execute_result"
    }
   ],
   "source": [
    "a1.dtype, a2.dtype, a3.dtype"
   ]
  },
  {
   "cell_type": "code",
   "execution_count": 10,
   "id": "f5e1601d-f53f-4a78-91e7-9c1f106ab672",
   "metadata": {},
   "outputs": [
    {
     "data": {
      "text/plain": [
       "(3, 6, 18)"
      ]
     },
     "execution_count": 10,
     "metadata": {},
     "output_type": "execute_result"
    }
   ],
   "source": [
    "a1.size, a2.size, a3.size"
   ]
  },
  {
   "cell_type": "markdown",
   "id": "9dd96056-b8c2-42cd-8bc6-d19c556424a8",
   "metadata": {},
   "source": [
    "### Creating Pandas Data Frame from Numpy Array"
   ]
  },
  {
   "cell_type": "code",
   "execution_count": 12,
   "id": "03cf5b01-7706-47eb-8832-32cdddf139b8",
   "metadata": {},
   "outputs": [],
   "source": [
    "import pandas as pd"
   ]
  },
  {
   "cell_type": "code",
   "execution_count": 13,
   "id": "8d30ae6b-42a5-47f1-83f8-8064555ab991",
   "metadata": {},
   "outputs": [
    {
     "data": {
      "text/html": [
       "<div>\n",
       "<style scoped>\n",
       "    .dataframe tbody tr th:only-of-type {\n",
       "        vertical-align: middle;\n",
       "    }\n",
       "\n",
       "    .dataframe tbody tr th {\n",
       "        vertical-align: top;\n",
       "    }\n",
       "\n",
       "    .dataframe thead th {\n",
       "        text-align: right;\n",
       "    }\n",
       "</style>\n",
       "<table border=\"1\" class=\"dataframe\">\n",
       "  <thead>\n",
       "    <tr style=\"text-align: right;\">\n",
       "      <th></th>\n",
       "      <th>0</th>\n",
       "      <th>1</th>\n",
       "      <th>2</th>\n",
       "    </tr>\n",
       "  </thead>\n",
       "  <tbody>\n",
       "    <tr>\n",
       "      <th>0</th>\n",
       "      <td>12.0</td>\n",
       "      <td>32.3</td>\n",
       "      <td>50.0</td>\n",
       "    </tr>\n",
       "    <tr>\n",
       "      <th>1</th>\n",
       "      <td>5.5</td>\n",
       "      <td>73.0</td>\n",
       "      <td>10.0</td>\n",
       "    </tr>\n",
       "  </tbody>\n",
       "</table>\n",
       "</div>"
      ],
      "text/plain": [
       "      0     1     2\n",
       "0  12.0  32.3  50.0\n",
       "1   5.5  73.0  10.0"
      ]
     },
     "execution_count": 13,
     "metadata": {},
     "output_type": "execute_result"
    }
   ],
   "source": [
    "df = pd.DataFrame(a2)\n",
    "df"
   ]
  },
  {
   "cell_type": "markdown",
   "id": "d6242f5f-dcce-44f3-8e68-7d6ed53ea3bd",
   "metadata": {},
   "source": [
    "## 2. Creating Arrays"
   ]
  },
  {
   "cell_type": "code",
   "execution_count": 16,
   "id": "c8d56a43-2ef4-4ac0-a2df-6bbbeb8ba848",
   "metadata": {},
   "outputs": [
    {
     "data": {
      "text/plain": [
       "array([1, 2, 3])"
      ]
     },
     "execution_count": 16,
     "metadata": {},
     "output_type": "execute_result"
    }
   ],
   "source": [
    "sample_array = np.array([1, 2, 3])\n",
    "sample_array"
   ]
  },
  {
   "cell_type": "code",
   "execution_count": 17,
   "id": "aa876a40-119a-4760-ba57-0290d32769cf",
   "metadata": {},
   "outputs": [
    {
     "data": {
      "text/plain": [
       "array([[1., 1., 1.],\n",
       "       [1., 1., 1.]])"
      ]
     },
     "execution_count": 17,
     "metadata": {},
     "output_type": "execute_result"
    }
   ],
   "source": [
    "ones = np.ones((2, 3))\n",
    "ones"
   ]
  },
  {
   "cell_type": "code",
   "execution_count": 19,
   "id": "5707b1e2-cf25-46a3-bb04-58e0569e9050",
   "metadata": {},
   "outputs": [
    {
     "data": {
      "text/plain": [
       "array([[0., 0., 0.],\n",
       "       [0., 0., 0.]])"
      ]
     },
     "execution_count": 19,
     "metadata": {},
     "output_type": "execute_result"
    }
   ],
   "source": [
    "zeros = np.zeros((2, 3))\n",
    "zeros"
   ]
  },
  {
   "cell_type": "code",
   "execution_count": 20,
   "id": "ae29201d-3254-48fa-8b9a-f5156212e990",
   "metadata": {},
   "outputs": [
    {
     "data": {
      "text/plain": [
       "array([0, 2, 4, 6, 8])"
      ]
     },
     "execution_count": 20,
     "metadata": {},
     "output_type": "execute_result"
    }
   ],
   "source": [
    "range = np.arange(0, 10, 2)\n",
    "range"
   ]
  },
  {
   "cell_type": "code",
   "execution_count": 22,
   "id": "0d267840-27bf-4884-b605-523ed7f50edd",
   "metadata": {},
   "outputs": [
    {
     "data": {
      "text/plain": [
       "array([[58,  8, 48, 35, 61],\n",
       "       [46, 50, 54,  6, 82],\n",
       "       [50, 25, 51, 73, 28]])"
      ]
     },
     "execution_count": 22,
     "metadata": {},
     "output_type": "execute_result"
    }
   ],
   "source": [
    "random_array_1 = np.random.randint(0, 100, size=(3, 5))\n",
    "random_array_1"
   ]
  },
  {
   "cell_type": "code",
   "execution_count": 23,
   "id": "6f360862-d61b-4f8e-ba3b-c4eb1fd540ef",
   "metadata": {},
   "outputs": [
    {
     "data": {
      "text/plain": [
       "array([[0.1128827 , 0.94253306, 0.79148425],\n",
       "       [0.9078649 , 0.06346784, 0.5610032 ],\n",
       "       [0.47006515, 0.16560741, 0.98402657],\n",
       "       [0.2421455 , 0.75459701, 0.50370789],\n",
       "       [0.31297373, 0.1241396 , 0.07736269]])"
      ]
     },
     "execution_count": 23,
     "metadata": {},
     "output_type": "execute_result"
    }
   ],
   "source": [
    "random_array_2 = np.random.random((5, 3))\n",
    "random_array_2"
   ]
  },
  {
   "cell_type": "code",
   "execution_count": 24,
   "id": "64a5005f-af6b-401b-baf0-8852726d9634",
   "metadata": {},
   "outputs": [
    {
     "data": {
      "text/plain": [
       "array([[0.04123913, 0.21518934, 0.46702595],\n",
       "       [0.85121008, 0.39426901, 0.75856793],\n",
       "       [0.18573891, 0.01144942, 0.67977632],\n",
       "       [0.2546063 , 0.07614259, 0.48414352],\n",
       "       [0.75076551, 0.00258801, 0.96123251]])"
      ]
     },
     "execution_count": 24,
     "metadata": {},
     "output_type": "execute_result"
    }
   ],
   "source": [
    "random_array_3 = np.random.rand(5,3)\n",
    "random_array_3"
   ]
  },
  {
   "cell_type": "markdown",
   "id": "a1394219-82c5-427b-83c2-1569f89c4d79",
   "metadata": {},
   "source": [
    "### Using Random Seed"
   ]
  },
  {
   "cell_type": "code",
   "execution_count": 26,
   "id": "d7ea1d4b-9a7e-46c6-8129-2948710c047a",
   "metadata": {},
   "outputs": [
    {
     "data": {
      "text/plain": [
       "array([[37, 12, 72],\n",
       "       [ 9, 75,  5],\n",
       "       [79, 64, 16],\n",
       "       [ 1, 76, 71],\n",
       "       [ 6, 25, 50]])"
      ]
     },
     "execution_count": 26,
     "metadata": {},
     "output_type": "execute_result"
    }
   ],
   "source": [
    "np.random.seed(1)\n",
    "random_array_4 = np.random.randint(0, 100, size=(5,3))\n",
    "random_array_4"
   ]
  },
  {
   "cell_type": "code",
   "execution_count": 29,
   "id": "6c4ef5b3-050e-49e9-9238-36cc11ca7610",
   "metadata": {},
   "outputs": [
    {
     "data": {
      "text/plain": [
       "array([[0.94763226, 0.22654742, 0.59442014, 0.42830868, 0.76414069,\n",
       "        0.00286059, 0.35742368],\n",
       "       [0.90969489, 0.45608099, 0.98180271, 0.86735699, 0.98602751,\n",
       "        0.92326671, 0.30369331],\n",
       "       [0.84610349, 0.12122197, 0.78557629, 0.25050505, 0.09602971,\n",
       "        0.94349104, 0.82605015],\n",
       "       [0.51832513, 0.87350042, 0.57837569, 0.4500845 , 0.68015698,\n",
       "        0.41942562, 0.64039346]])"
      ]
     },
     "execution_count": 29,
     "metadata": {},
     "output_type": "execute_result"
    }
   ],
   "source": [
    "np.random.seed(200)\n",
    "random_array_5 = np.random.random((4,7))\n",
    "random_array_5"
   ]
  },
  {
   "cell_type": "markdown",
   "id": "43933763-0737-4f51-8a1c-e75072ab1461",
   "metadata": {},
   "source": [
    "## 3. Viewing Arrays"
   ]
  },
  {
   "cell_type": "code",
   "execution_count": 31,
   "id": "eb731a39-b77a-41cd-9b4d-15018ce58afb",
   "metadata": {},
   "outputs": [
    {
     "data": {
      "text/plain": [
       "(array([1, 2, 3]), array([ 5.5, 10. , 12. , 32.3, 50. , 73. ]))"
      ]
     },
     "execution_count": 31,
     "metadata": {},
     "output_type": "execute_result"
    }
   ],
   "source": [
    "np.unique(a1), np.unique(a2)"
   ]
  },
  {
   "cell_type": "code",
   "execution_count": 32,
   "id": "b671b983-40e2-4d93-9cd0-e5383cf6c6b4",
   "metadata": {},
   "outputs": [
    {
     "data": {
      "text/plain": [
       "array([1, 2, 3])"
      ]
     },
     "execution_count": 32,
     "metadata": {},
     "output_type": "execute_result"
    }
   ],
   "source": [
    "a1"
   ]
  },
  {
   "cell_type": "code",
   "execution_count": 35,
   "id": "5545d522-db23-484d-8d2a-a91e8e1f9457",
   "metadata": {},
   "outputs": [
    {
     "data": {
      "text/plain": [
       "2"
      ]
     },
     "execution_count": 35,
     "metadata": {},
     "output_type": "execute_result"
    }
   ],
   "source": [
    "a1[1]"
   ]
  },
  {
   "cell_type": "code",
   "execution_count": 36,
   "id": "90a3487d-bb75-4502-8b94-16abead62121",
   "metadata": {},
   "outputs": [
    {
     "data": {
      "text/plain": [
       "array([[12. , 32.3, 50. ],\n",
       "       [ 5.5, 73. , 10. ]])"
      ]
     },
     "execution_count": 36,
     "metadata": {},
     "output_type": "execute_result"
    }
   ],
   "source": [
    "a2"
   ]
  },
  {
   "cell_type": "code",
   "execution_count": 38,
   "id": "d929c844-f8a9-4e8d-a7d0-872c82e48fd7",
   "metadata": {},
   "outputs": [
    {
     "data": {
      "text/plain": [
       "32.3"
      ]
     },
     "execution_count": 38,
     "metadata": {},
     "output_type": "execute_result"
    }
   ],
   "source": [
    "a2[0, 1]"
   ]
  },
  {
   "cell_type": "code",
   "execution_count": 39,
   "id": "f279fe5f-710d-4883-85b4-a39711927470",
   "metadata": {},
   "outputs": [
    {
     "data": {
      "text/plain": [
       "array([[[ 1,  2,  3],\n",
       "        [ 4,  5,  6],\n",
       "        [ 7,  8,  9]],\n",
       "\n",
       "       [[10, 11, 12],\n",
       "        [13, 14, 15],\n",
       "        [16, 17, 18]]])"
      ]
     },
     "execution_count": 39,
     "metadata": {},
     "output_type": "execute_result"
    }
   ],
   "source": [
    "a3"
   ]
  },
  {
   "cell_type": "code",
   "execution_count": 54,
   "id": "d45fa7d7-8184-4e3d-9894-cbd654836de0",
   "metadata": {},
   "outputs": [
    {
     "data": {
      "text/plain": [
       "array([[[ 1,  2],\n",
       "        [ 4,  5]],\n",
       "\n",
       "       [[10, 11],\n",
       "        [13, 14]]])"
      ]
     },
     "execution_count": 54,
     "metadata": {},
     "output_type": "execute_result"
    }
   ],
   "source": [
    "a3[:2, :2, :2]"
   ]
  },
  {
   "cell_type": "code",
   "execution_count": 55,
   "id": "65355d0c-846d-4fa2-a351-783955fbc249",
   "metadata": {},
   "outputs": [
    {
     "data": {
      "text/plain": [
       "array([[[[3, 1, 8, 0, 4],\n",
       "         [6, 3, 4, 4, 6],\n",
       "         [2, 0, 4, 0, 9],\n",
       "         [4, 2, 7, 1, 8]],\n",
       "\n",
       "        [[6, 7, 1, 9, 1],\n",
       "         [7, 5, 8, 1, 1],\n",
       "         [1, 7, 0, 2, 6],\n",
       "         [5, 1, 1, 1, 8]],\n",
       "\n",
       "        [[3, 0, 7, 8, 4],\n",
       "         [3, 6, 0, 7, 9],\n",
       "         [1, 5, 4, 1, 4],\n",
       "         [5, 7, 2, 0, 9]]],\n",
       "\n",
       "\n",
       "       [[[7, 0, 5, 4, 6],\n",
       "         [6, 9, 6, 7, 0],\n",
       "         [2, 2, 0, 8, 3],\n",
       "         [4, 8, 1, 1, 8]],\n",
       "\n",
       "        [[0, 2, 3, 4, 7],\n",
       "         [8, 1, 4, 8, 4],\n",
       "         [6, 3, 3, 0, 4],\n",
       "         [2, 5, 9, 5, 5]],\n",
       "\n",
       "        [[8, 8, 4, 1, 2],\n",
       "         [1, 8, 5, 8, 5],\n",
       "         [4, 6, 4, 6, 0],\n",
       "         [7, 8, 4, 4, 0]]]])"
      ]
     },
     "execution_count": 55,
     "metadata": {},
     "output_type": "execute_result"
    }
   ],
   "source": [
    "a4 = np.random.randint(10, size=(2, 3, 4, 5))\n",
    "a4"
   ]
  },
  {
   "cell_type": "code",
   "execution_count": 63,
   "id": "85c59ce2-a618-4e81-9eb0-fc74f9af64d0",
   "metadata": {},
   "outputs": [
    {
     "data": {
      "text/plain": [
       "array([[[[3, 1],\n",
       "         [6, 3],\n",
       "         [2, 0],\n",
       "         [4, 2]],\n",
       "\n",
       "        [[6, 7],\n",
       "         [7, 5],\n",
       "         [1, 7],\n",
       "         [5, 1]]],\n",
       "\n",
       "\n",
       "       [[[7, 0],\n",
       "         [6, 9],\n",
       "         [2, 2],\n",
       "         [4, 8]],\n",
       "\n",
       "        [[0, 2],\n",
       "         [8, 1],\n",
       "         [6, 3],\n",
       "         [2, 5]]]])"
      ]
     },
     "execution_count": 63,
     "metadata": {},
     "output_type": "execute_result"
    }
   ],
   "source": [
    "a4[:,:2,:4,:2]"
   ]
  },
  {
   "cell_type": "markdown",
   "id": "ff41d657-a6a5-40a6-b799-fa7b81c5f5f8",
   "metadata": {},
   "source": [
    "## 4. Manipulating and Comparing Arrays"
   ]
  },
  {
   "cell_type": "markdown",
   "id": "78040c52-7809-484b-8736-7a69a92fbf88",
   "metadata": {},
   "source": [
    "### Arithmetic"
   ]
  },
  {
   "cell_type": "markdown",
   "id": "41c2f143-42bd-456c-ab61-22c6233fe83a",
   "metadata": {},
   "source": [
    "#### Addition"
   ]
  },
  {
   "cell_type": "code",
   "execution_count": 65,
   "id": "1a0b5932-2d20-492e-af82-3aebac6ad9d4",
   "metadata": {},
   "outputs": [
    {
     "data": {
      "text/plain": [
       "array([1, 2, 3])"
      ]
     },
     "execution_count": 65,
     "metadata": {},
     "output_type": "execute_result"
    }
   ],
   "source": [
    "a1"
   ]
  },
  {
   "cell_type": "code",
   "execution_count": 66,
   "id": "11355407-dcd5-4d5b-9619-ddd240da40db",
   "metadata": {},
   "outputs": [
    {
     "data": {
      "text/plain": [
       "array([[1., 1., 1.],\n",
       "       [1., 1., 1.]])"
      ]
     },
     "execution_count": 66,
     "metadata": {},
     "output_type": "execute_result"
    }
   ],
   "source": [
    "ones"
   ]
  },
  {
   "cell_type": "code",
   "execution_count": 67,
   "id": "4bda6f39-0eb0-4b87-8e80-5c24fd0e3143",
   "metadata": {},
   "outputs": [
    {
     "data": {
      "text/plain": [
       "array([[2., 3., 4.],\n",
       "       [2., 3., 4.]])"
      ]
     },
     "execution_count": 67,
     "metadata": {},
     "output_type": "execute_result"
    }
   ],
   "source": [
    "a1 + ones"
   ]
  },
  {
   "cell_type": "markdown",
   "id": "d328f3fa-9034-4bc6-8d94-7f67bee56969",
   "metadata": {},
   "source": [
    "#### Subtraction"
   ]
  },
  {
   "cell_type": "code",
   "execution_count": 68,
   "id": "016524dd-cd32-4451-a037-e6f202413a66",
   "metadata": {},
   "outputs": [
    {
     "data": {
      "text/plain": [
       "array([1, 2, 3])"
      ]
     },
     "execution_count": 68,
     "metadata": {},
     "output_type": "execute_result"
    }
   ],
   "source": [
    "a1"
   ]
  },
  {
   "cell_type": "code",
   "execution_count": 69,
   "id": "b7e76e49-1d7d-48b0-a9d9-7925f02a86ed",
   "metadata": {},
   "outputs": [
    {
     "data": {
      "text/plain": [
       "array([[1., 1., 1.],\n",
       "       [1., 1., 1.]])"
      ]
     },
     "execution_count": 69,
     "metadata": {},
     "output_type": "execute_result"
    }
   ],
   "source": [
    "ones"
   ]
  },
  {
   "cell_type": "code",
   "execution_count": 70,
   "id": "4dfbeb59-f979-44f6-8b13-ae410de4eef6",
   "metadata": {},
   "outputs": [
    {
     "data": {
      "text/plain": [
       "array([[0., 1., 2.],\n",
       "       [0., 1., 2.]])"
      ]
     },
     "execution_count": 70,
     "metadata": {},
     "output_type": "execute_result"
    }
   ],
   "source": [
    "a1 - ones"
   ]
  },
  {
   "cell_type": "code",
   "execution_count": 72,
   "id": "2a86b388-ced3-4227-b7f8-1e5a125b90fe",
   "metadata": {},
   "outputs": [
    {
     "data": {
      "text/plain": [
       "array([[12. , 32.3, 50. ],\n",
       "       [ 5.5, 73. , 10. ]])"
      ]
     },
     "execution_count": 72,
     "metadata": {},
     "output_type": "execute_result"
    }
   ],
   "source": [
    "a2"
   ]
  },
  {
   "cell_type": "code",
   "execution_count": 73,
   "id": "3af34332-7bb8-45c5-9894-719cba7987a6",
   "metadata": {},
   "outputs": [
    {
     "data": {
      "text/plain": [
       "array([[1., 1., 1.],\n",
       "       [1., 1., 1.]])"
      ]
     },
     "execution_count": 73,
     "metadata": {},
     "output_type": "execute_result"
    }
   ],
   "source": [
    "ones"
   ]
  },
  {
   "cell_type": "code",
   "execution_count": 71,
   "id": "f2ee2d31-2704-427a-8cf9-768a09250eb3",
   "metadata": {},
   "outputs": [
    {
     "data": {
      "text/plain": [
       "array([[11. , 31.3, 49. ],\n",
       "       [ 4.5, 72. ,  9. ]])"
      ]
     },
     "execution_count": 71,
     "metadata": {},
     "output_type": "execute_result"
    }
   ],
   "source": [
    "a2 - ones"
   ]
  },
  {
   "cell_type": "markdown",
   "id": "a40db960-d27b-40ad-9aca-7053e75deb34",
   "metadata": {},
   "source": [
    "#### Multiplication"
   ]
  },
  {
   "cell_type": "code",
   "execution_count": 74,
   "id": "bdecea15-2895-42ac-8464-c1d81d263015",
   "metadata": {},
   "outputs": [
    {
     "data": {
      "text/plain": [
       "array([1, 2, 3])"
      ]
     },
     "execution_count": 74,
     "metadata": {},
     "output_type": "execute_result"
    }
   ],
   "source": [
    "a1"
   ]
  },
  {
   "cell_type": "code",
   "execution_count": 75,
   "id": "e0a2acf7-ec35-4a37-9892-b7f2545d631b",
   "metadata": {},
   "outputs": [
    {
     "data": {
      "text/plain": [
       "array([[1., 1., 1.],\n",
       "       [1., 1., 1.]])"
      ]
     },
     "execution_count": 75,
     "metadata": {},
     "output_type": "execute_result"
    }
   ],
   "source": [
    "ones"
   ]
  },
  {
   "cell_type": "code",
   "execution_count": 76,
   "id": "4a1cadc1-0df2-49f8-9957-1e58bbc81613",
   "metadata": {},
   "outputs": [
    {
     "data": {
      "text/plain": [
       "array([[1., 2., 3.],\n",
       "       [1., 2., 3.]])"
      ]
     },
     "execution_count": 76,
     "metadata": {},
     "output_type": "execute_result"
    }
   ],
   "source": [
    "a1 * ones"
   ]
  },
  {
   "cell_type": "code",
   "execution_count": 77,
   "id": "156ee136-f61c-40ea-a759-7ece49eea6b3",
   "metadata": {},
   "outputs": [
    {
     "data": {
      "text/plain": [
       "array([[12. , 32.3, 50. ],\n",
       "       [ 5.5, 73. , 10. ]])"
      ]
     },
     "execution_count": 77,
     "metadata": {},
     "output_type": "execute_result"
    }
   ],
   "source": [
    "a2"
   ]
  },
  {
   "cell_type": "code",
   "execution_count": 78,
   "id": "a42a503a-994e-4a25-a51f-c2f1b791256c",
   "metadata": {},
   "outputs": [
    {
     "data": {
      "text/plain": [
       "array([[1., 1., 1.],\n",
       "       [1., 1., 1.]])"
      ]
     },
     "execution_count": 78,
     "metadata": {},
     "output_type": "execute_result"
    }
   ],
   "source": [
    "ones"
   ]
  },
  {
   "cell_type": "code",
   "execution_count": 79,
   "id": "4dd5989e-6c93-4437-a6fd-b841f8288061",
   "metadata": {},
   "outputs": [
    {
     "data": {
      "text/plain": [
       "array([[12. , 32.3, 50. ],\n",
       "       [ 5.5, 73. , 10. ]])"
      ]
     },
     "execution_count": 79,
     "metadata": {},
     "output_type": "execute_result"
    }
   ],
   "source": [
    "a2 * ones"
   ]
  },
  {
   "cell_type": "code",
   "execution_count": 80,
   "id": "4deeb405-afe4-42eb-ba51-f0a1695e1bef",
   "metadata": {},
   "outputs": [
    {
     "data": {
      "text/plain": [
       "array([[[ 1,  2,  3],\n",
       "        [ 4,  5,  6],\n",
       "        [ 7,  8,  9]],\n",
       "\n",
       "       [[10, 11, 12],\n",
       "        [13, 14, 15],\n",
       "        [16, 17, 18]]])"
      ]
     },
     "execution_count": 80,
     "metadata": {},
     "output_type": "execute_result"
    }
   ],
   "source": [
    "a3"
   ]
  },
  {
   "cell_type": "code",
   "execution_count": 81,
   "id": "b8253b20-e62e-4e3a-b98e-06b183d8508b",
   "metadata": {},
   "outputs": [
    {
     "data": {
      "text/plain": [
       "array([[1., 1., 1.],\n",
       "       [1., 1., 1.]])"
      ]
     },
     "execution_count": 81,
     "metadata": {},
     "output_type": "execute_result"
    }
   ],
   "source": [
    "ones"
   ]
  },
  {
   "cell_type": "code",
   "execution_count": 83,
   "id": "edf08170-10c1-4443-aaa0-646776d82556",
   "metadata": {},
   "outputs": [
    {
     "data": {
      "text/plain": [
       "((2, 3, 3), (2, 3))"
      ]
     },
     "execution_count": 83,
     "metadata": {},
     "output_type": "execute_result"
    }
   ],
   "source": [
    "a3.shape, ones.shape"
   ]
  },
  {
   "cell_type": "code",
   "execution_count": 93,
   "id": "930e2879-09b1-4b18-b06a-5dcc2218aa23",
   "metadata": {},
   "outputs": [
    {
     "data": {
      "text/plain": [
       "array([[[1., 1., 1.],\n",
       "        [1., 1., 1.]]])"
      ]
     },
     "execution_count": 93,
     "metadata": {},
     "output_type": "execute_result"
    }
   ],
   "source": [
    "ones[np.newaxis]"
   ]
  },
  {
   "cell_type": "code",
   "execution_count": 92,
   "id": "edd27cd8-a025-49b0-ab38-01fef161577d",
   "metadata": {},
   "outputs": [
    {
     "data": {
      "text/plain": [
       "array([[[ 1,  2,  3],\n",
       "        [ 4,  5,  6],\n",
       "        [ 7,  8,  9]],\n",
       "\n",
       "       [[10, 11, 12],\n",
       "        [13, 14, 15],\n",
       "        [16, 17, 18]]])"
      ]
     },
     "execution_count": 92,
     "metadata": {},
     "output_type": "execute_result"
    }
   ],
   "source": [
    "a3"
   ]
  },
  {
   "cell_type": "code",
   "execution_count": 98,
   "id": "81390e24-92a2-44e4-858a-191a53b9d1e4",
   "metadata": {},
   "outputs": [
    {
     "data": {
      "text/plain": [
       "(1, 2, 3)"
      ]
     },
     "execution_count": 98,
     "metadata": {},
     "output_type": "execute_result"
    }
   ],
   "source": [
    "ones[np.newaxis].shape"
   ]
  },
  {
   "cell_type": "code",
   "execution_count": 95,
   "id": "6d096771-b302-4be1-bbca-1e3ccfcfd993",
   "metadata": {},
   "outputs": [
    {
     "data": {
      "text/plain": [
       "(2, 3, 3)"
      ]
     },
     "execution_count": 95,
     "metadata": {},
     "output_type": "execute_result"
    }
   ],
   "source": [
    "a3.shape"
   ]
  },
  {
   "cell_type": "markdown",
   "id": "418f79f2-4b88-4deb-b72c-b4d2d866f6ef",
   "metadata": {},
   "source": [
    "We used np.newaxis to add another dimension to our array to make the shape compatible for broadcast"
   ]
  },
  {
   "cell_type": "code",
   "execution_count": 102,
   "id": "3969f0d7-16ea-4fb4-b315-1184e2a2b42a",
   "metadata": {},
   "outputs": [
    {
     "data": {
      "text/plain": [
       "array([[[1.],\n",
       "        [1.],\n",
       "        [1.]],\n",
       "\n",
       "       [[1.],\n",
       "        [1.],\n",
       "        [1.]]])"
      ]
     },
     "execution_count": 102,
     "metadata": {},
     "output_type": "execute_result"
    }
   ],
   "source": [
    "ones[:, :, np.newaxis]"
   ]
  },
  {
   "cell_type": "code",
   "execution_count": 100,
   "id": "32563c6f-8255-4aa0-9a13-87b6706cd98f",
   "metadata": {},
   "outputs": [
    {
     "data": {
      "text/plain": [
       "(2, 3, 1)"
      ]
     },
     "execution_count": 100,
     "metadata": {},
     "output_type": "execute_result"
    }
   ],
   "source": [
    "ones[:, :, np.newaxis].shape"
   ]
  },
  {
   "cell_type": "code",
   "execution_count": 101,
   "id": "66532d22-8726-43e4-accc-591a54a9c788",
   "metadata": {},
   "outputs": [
    {
     "data": {
      "text/plain": [
       "array([[[ 1.,  2.,  3.],\n",
       "        [ 4.,  5.,  6.],\n",
       "        [ 7.,  8.,  9.]],\n",
       "\n",
       "       [[10., 11., 12.],\n",
       "        [13., 14., 15.],\n",
       "        [16., 17., 18.]]])"
      ]
     },
     "execution_count": 101,
     "metadata": {},
     "output_type": "execute_result"
    }
   ],
   "source": [
    "a3 * ones[:, :, np.newaxis]"
   ]
  },
  {
   "cell_type": "markdown",
   "id": "fc2c3e3c-826b-4ab4-bde4-4d8c6da5562c",
   "metadata": {},
   "source": [
    "#### Division"
   ]
  },
  {
   "cell_type": "code",
   "execution_count": 103,
   "id": "73c5a681-1cb6-446d-8390-e6b727fb6188",
   "metadata": {},
   "outputs": [
    {
     "data": {
      "text/plain": [
       "array([1, 2, 3])"
      ]
     },
     "execution_count": 103,
     "metadata": {},
     "output_type": "execute_result"
    }
   ],
   "source": [
    "a1"
   ]
  },
  {
   "cell_type": "code",
   "execution_count": 104,
   "id": "9f0eccd5-78d6-4f05-b382-1fbc27ee81b8",
   "metadata": {},
   "outputs": [
    {
     "data": {
      "text/plain": [
       "array([[1., 1., 1.],\n",
       "       [1., 1., 1.]])"
      ]
     },
     "execution_count": 104,
     "metadata": {},
     "output_type": "execute_result"
    }
   ],
   "source": [
    "ones"
   ]
  },
  {
   "cell_type": "code",
   "execution_count": 105,
   "id": "43fee862-6d51-4c60-9ae5-cb8502e4f829",
   "metadata": {},
   "outputs": [
    {
     "data": {
      "text/plain": [
       "array([[1., 2., 3.],\n",
       "       [1., 2., 3.]])"
      ]
     },
     "execution_count": 105,
     "metadata": {},
     "output_type": "execute_result"
    }
   ],
   "source": [
    "a1 / ones"
   ]
  },
  {
   "cell_type": "code",
   "execution_count": 106,
   "id": "bac75b3d-2ba6-4c73-8ede-0ce6b15575b9",
   "metadata": {},
   "outputs": [
    {
     "data": {
      "text/plain": [
       "array([[12. , 32.3, 50. ],\n",
       "       [ 5.5, 73. , 10. ]])"
      ]
     },
     "execution_count": 106,
     "metadata": {},
     "output_type": "execute_result"
    }
   ],
   "source": [
    "a2"
   ]
  },
  {
   "cell_type": "code",
   "execution_count": 107,
   "id": "5f9cab0e-fd1c-441d-9cc7-d71aff5f33f5",
   "metadata": {},
   "outputs": [
    {
     "data": {
      "text/plain": [
       "array([[12. , 32.3, 50. ],\n",
       "       [ 5.5, 73. , 10. ]])"
      ]
     },
     "execution_count": 107,
     "metadata": {},
     "output_type": "execute_result"
    }
   ],
   "source": [
    "a2 / ones"
   ]
  },
  {
   "cell_type": "code",
   "execution_count": 108,
   "id": "b38a6a9b-f63f-46ed-b0e6-b2d30d6343ea",
   "metadata": {},
   "outputs": [
    {
     "data": {
      "text/plain": [
       "array([[[ 1,  2,  3],\n",
       "        [ 4,  5,  6],\n",
       "        [ 7,  8,  9]],\n",
       "\n",
       "       [[10, 11, 12],\n",
       "        [13, 14, 15],\n",
       "        [16, 17, 18]]])"
      ]
     },
     "execution_count": 108,
     "metadata": {},
     "output_type": "execute_result"
    }
   ],
   "source": [
    "a3 "
   ]
  },
  {
   "cell_type": "code",
   "execution_count": 110,
   "id": "1d9bec33-8aef-4278-9b27-c312af69d39d",
   "metadata": {},
   "outputs": [
    {
     "data": {
      "text/plain": [
       "array([[[ 1.,  2.,  3.],\n",
       "        [ 4.,  5.,  6.],\n",
       "        [ 7.,  8.,  9.]],\n",
       "\n",
       "       [[10., 11., 12.],\n",
       "        [13., 14., 15.],\n",
       "        [16., 17., 18.]]])"
      ]
     },
     "execution_count": 110,
     "metadata": {},
     "output_type": "execute_result"
    }
   ],
   "source": [
    "a3 / ones[:, :, np.newaxis]"
   ]
  },
  {
   "cell_type": "markdown",
   "id": "53d1ed8f-4e01-4427-9f53-36191b1b5360",
   "metadata": {},
   "source": [
    "#### Power"
   ]
  },
  {
   "cell_type": "code",
   "execution_count": 111,
   "id": "aa935d0c-d8e7-446d-b2e3-7e67922cd1d6",
   "metadata": {},
   "outputs": [
    {
     "data": {
      "text/plain": [
       "array([1, 2, 3])"
      ]
     },
     "execution_count": 111,
     "metadata": {},
     "output_type": "execute_result"
    }
   ],
   "source": [
    "a1 "
   ]
  },
  {
   "cell_type": "code",
   "execution_count": 113,
   "id": "84436eb8-7710-4d72-aa64-8e31e2ec56ae",
   "metadata": {},
   "outputs": [
    {
     "data": {
      "text/plain": [
       "array([1, 4, 9])"
      ]
     },
     "execution_count": 113,
     "metadata": {},
     "output_type": "execute_result"
    }
   ],
   "source": [
    "a1 ** 2"
   ]
  },
  {
   "cell_type": "markdown",
   "id": "2411f372-c167-4e07-a5c2-b0e07dc3219e",
   "metadata": {},
   "source": [
    "#### Floor Division"
   ]
  },
  {
   "cell_type": "code",
   "execution_count": 116,
   "id": "6af98985-8801-4e4e-8acc-f9ff31c4f9b3",
   "metadata": {},
   "outputs": [
    {
     "data": {
      "text/plain": [
       "array([[12. , 32.3, 50. ],\n",
       "       [ 5.5, 73. , 10. ]])"
      ]
     },
     "execution_count": 116,
     "metadata": {},
     "output_type": "execute_result"
    }
   ],
   "source": [
    "a2"
   ]
  },
  {
   "cell_type": "code",
   "execution_count": 117,
   "id": "e56ee660-3f12-4f79-a8c5-73f095c76283",
   "metadata": {},
   "outputs": [
    {
     "data": {
      "text/plain": [
       "array([1, 2, 3])"
      ]
     },
     "execution_count": 117,
     "metadata": {},
     "output_type": "execute_result"
    }
   ],
   "source": [
    "a1"
   ]
  },
  {
   "cell_type": "code",
   "execution_count": 118,
   "id": "43a0e415-127f-40a6-8713-a8b432771666",
   "metadata": {},
   "outputs": [
    {
     "data": {
      "text/plain": [
       "array([[12., 16., 16.],\n",
       "       [ 5., 36.,  3.]])"
      ]
     },
     "execution_count": 118,
     "metadata": {},
     "output_type": "execute_result"
    }
   ],
   "source": [
    "a2 // a1"
   ]
  },
  {
   "cell_type": "markdown",
   "id": "0c226393-e886-4642-a4fc-c2c648e2c0f0",
   "metadata": {},
   "source": [
    "#### Modulus"
   ]
  },
  {
   "cell_type": "code",
   "execution_count": 119,
   "id": "4948043b-9a6a-48b8-b49b-a5060c7cf016",
   "metadata": {},
   "outputs": [
    {
     "data": {
      "text/plain": [
       "array([1, 2, 3])"
      ]
     },
     "execution_count": 119,
     "metadata": {},
     "output_type": "execute_result"
    }
   ],
   "source": [
    "a1"
   ]
  },
  {
   "cell_type": "code",
   "execution_count": 120,
   "id": "69fcb818-6257-46ae-96b1-6fdf5cbf8bc1",
   "metadata": {},
   "outputs": [
    {
     "data": {
      "text/plain": [
       "array([1, 0, 1], dtype=int32)"
      ]
     },
     "execution_count": 120,
     "metadata": {},
     "output_type": "execute_result"
    }
   ],
   "source": [
    "a1 % 2"
   ]
  },
  {
   "cell_type": "code",
   "execution_count": 121,
   "id": "7656a438-9ce2-4f12-9de2-6748d2fafb8e",
   "metadata": {},
   "outputs": [
    {
     "data": {
      "text/plain": [
       "array([[[ 1,  2,  3],\n",
       "        [ 4,  5,  6],\n",
       "        [ 7,  8,  9]],\n",
       "\n",
       "       [[10, 11, 12],\n",
       "        [13, 14, 15],\n",
       "        [16, 17, 18]]])"
      ]
     },
     "execution_count": 121,
     "metadata": {},
     "output_type": "execute_result"
    }
   ],
   "source": [
    "a3 "
   ]
  },
  {
   "cell_type": "code",
   "execution_count": 122,
   "id": "4218975f-271e-446f-9322-8b17ad5ed9e3",
   "metadata": {},
   "outputs": [
    {
     "data": {
      "text/plain": [
       "array([[[1, 0, 1],\n",
       "        [0, 1, 0],\n",
       "        [1, 0, 1]],\n",
       "\n",
       "       [[0, 1, 0],\n",
       "        [1, 0, 1],\n",
       "        [0, 1, 0]]], dtype=int32)"
      ]
     },
     "execution_count": 122,
     "metadata": {},
     "output_type": "execute_result"
    }
   ],
   "source": [
    "a3 % 2"
   ]
  },
  {
   "cell_type": "code",
   "execution_count": null,
   "id": "f1ff710e-6364-4f56-9cb0-8d949bf8023e",
   "metadata": {},
   "outputs": [],
   "source": []
  }
 ],
 "metadata": {
  "kernelspec": {
   "display_name": "Python 3 (ipykernel)",
   "language": "python",
   "name": "python3"
  },
  "language_info": {
   "codemirror_mode": {
    "name": "ipython",
    "version": 3
   },
   "file_extension": ".py",
   "mimetype": "text/x-python",
   "name": "python",
   "nbconvert_exporter": "python",
   "pygments_lexer": "ipython3",
   "version": "3.10.13"
  }
 },
 "nbformat": 4,
 "nbformat_minor": 5
}
