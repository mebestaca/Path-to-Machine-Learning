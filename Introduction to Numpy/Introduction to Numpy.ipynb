{
 "cells": [
  {
   "cell_type": "markdown",
   "id": "016a957e-ce6e-4c99-bc0b-f0a3e6bbbe33",
   "metadata": {},
   "source": [
    "# Introduction to Numpy"
   ]
  },
  {
   "cell_type": "code",
   "execution_count": 1,
   "id": "58eea9cb-a99b-4745-89ad-09197da45173",
   "metadata": {},
   "outputs": [],
   "source": [
    "import numpy as np"
   ]
  },
  {
   "cell_type": "markdown",
   "id": "e1171272-e7b7-4887-80ff-66c03f9580bb",
   "metadata": {},
   "source": [
    "## 1. Data Types and Data Structure"
   ]
  },
  {
   "cell_type": "markdown",
   "id": "90655fdf-35e4-4c2b-97e0-6d4228d9d8a3",
   "metadata": {},
   "source": [
    "### Numpy Array"
   ]
  },
  {
   "cell_type": "code",
   "execution_count": 2,
   "id": "fc4d43d1-47a7-4ee9-83c9-6cb6cbf93970",
   "metadata": {},
   "outputs": [
    {
     "data": {
      "text/plain": [
       "array([1, 2, 3])"
      ]
     },
     "execution_count": 2,
     "metadata": {},
     "output_type": "execute_result"
    }
   ],
   "source": [
    "# 1 dimensional array\n",
    "a1 = np.array([ 1, 2, 3])\n",
    "a1"
   ]
  },
  {
   "cell_type": "code",
   "execution_count": 3,
   "id": "546d764d-b698-4faa-980d-1b8e882ee06f",
   "metadata": {},
   "outputs": [
    {
     "data": {
      "text/plain": [
       "array([[12. , 32.3, 50. ],\n",
       "       [ 5.5, 73. , 10. ]])"
      ]
     },
     "execution_count": 3,
     "metadata": {},
     "output_type": "execute_result"
    }
   ],
   "source": [
    "# 2 dimensional array\n",
    "a2 = np.array([[12, 32.3, 50], [5.5, 73, 10]])\n",
    "a2"
   ]
  },
  {
   "cell_type": "code",
   "execution_count": 4,
   "id": "14464f90-9ace-4acb-b803-2e485c4746ea",
   "metadata": {},
   "outputs": [
    {
     "data": {
      "text/plain": [
       "array([[[ 1,  2,  3],\n",
       "        [ 4,  5,  6],\n",
       "        [ 7,  8,  9]],\n",
       "\n",
       "       [[10, 11, 12],\n",
       "        [13, 14, 15],\n",
       "        [16, 17, 18]]])"
      ]
     },
     "execution_count": 4,
     "metadata": {},
     "output_type": "execute_result"
    }
   ],
   "source": [
    "# 3 dimensional array\n",
    "a3 = np.array([\n",
    "    [[1, 2, 3], \n",
    "     [4, 5, 6], \n",
    "     [7, 8, 9]],\n",
    "    [[10, 11, 12], \n",
    "     [13, 14, 15], \n",
    "     [16, 17, 18]]\n",
    "])\n",
    "a3"
   ]
  },
  {
   "cell_type": "markdown",
   "id": "3a60e875-1a6c-4782-8d8a-3b2d0d7f1765",
   "metadata": {},
   "source": [
    "### Properties"
   ]
  },
  {
   "cell_type": "code",
   "execution_count": 5,
   "id": "27f5184b-20ae-4258-99d5-dcc364dd0ec4",
   "metadata": {},
   "outputs": [
    {
     "data": {
      "text/plain": [
       "(numpy.ndarray, numpy.ndarray, numpy.ndarray)"
      ]
     },
     "execution_count": 5,
     "metadata": {},
     "output_type": "execute_result"
    }
   ],
   "source": [
    "type(a1), type(a2), type(a3)"
   ]
  },
  {
   "cell_type": "code",
   "execution_count": 6,
   "id": "a185431f-ccd8-43b2-9ab8-e3bbe276db67",
   "metadata": {},
   "outputs": [
    {
     "data": {
      "text/plain": [
       "((3,), (2, 3), (2, 3, 3))"
      ]
     },
     "execution_count": 6,
     "metadata": {},
     "output_type": "execute_result"
    }
   ],
   "source": [
    "a1.shape, a2.shape, a3.shape"
   ]
  },
  {
   "cell_type": "code",
   "execution_count": 7,
   "id": "60bed886-0f98-412c-8842-94b89cc0a248",
   "metadata": {},
   "outputs": [
    {
     "data": {
      "text/plain": [
       "(1, 2, 3)"
      ]
     },
     "execution_count": 7,
     "metadata": {},
     "output_type": "execute_result"
    }
   ],
   "source": [
    "a1.ndim, a2.ndim, a3.ndim"
   ]
  },
  {
   "cell_type": "code",
   "execution_count": 8,
   "id": "b5675b1b-afea-45c6-8375-edb5684a23a2",
   "metadata": {},
   "outputs": [
    {
     "data": {
      "text/plain": [
       "(dtype('int32'), dtype('float64'), dtype('int32'))"
      ]
     },
     "execution_count": 8,
     "metadata": {},
     "output_type": "execute_result"
    }
   ],
   "source": [
    "a1.dtype, a2.dtype, a3.dtype"
   ]
  },
  {
   "cell_type": "code",
   "execution_count": 9,
   "id": "f5e1601d-f53f-4a78-91e7-9c1f106ab672",
   "metadata": {},
   "outputs": [
    {
     "data": {
      "text/plain": [
       "(3, 6, 18)"
      ]
     },
     "execution_count": 9,
     "metadata": {},
     "output_type": "execute_result"
    }
   ],
   "source": [
    "a1.size, a2.size, a3.size"
   ]
  },
  {
   "cell_type": "markdown",
   "id": "9dd96056-b8c2-42cd-8bc6-d19c556424a8",
   "metadata": {},
   "source": [
    "### Creating Pandas Data Frame from Numpy Array"
   ]
  },
  {
   "cell_type": "code",
   "execution_count": 10,
   "id": "03cf5b01-7706-47eb-8832-32cdddf139b8",
   "metadata": {},
   "outputs": [],
   "source": [
    "import pandas as pd"
   ]
  },
  {
   "cell_type": "code",
   "execution_count": 11,
   "id": "8d30ae6b-42a5-47f1-83f8-8064555ab991",
   "metadata": {},
   "outputs": [
    {
     "data": {
      "text/html": [
       "<div>\n",
       "<style scoped>\n",
       "    .dataframe tbody tr th:only-of-type {\n",
       "        vertical-align: middle;\n",
       "    }\n",
       "\n",
       "    .dataframe tbody tr th {\n",
       "        vertical-align: top;\n",
       "    }\n",
       "\n",
       "    .dataframe thead th {\n",
       "        text-align: right;\n",
       "    }\n",
       "</style>\n",
       "<table border=\"1\" class=\"dataframe\">\n",
       "  <thead>\n",
       "    <tr style=\"text-align: right;\">\n",
       "      <th></th>\n",
       "      <th>0</th>\n",
       "      <th>1</th>\n",
       "      <th>2</th>\n",
       "    </tr>\n",
       "  </thead>\n",
       "  <tbody>\n",
       "    <tr>\n",
       "      <th>0</th>\n",
       "      <td>12.0</td>\n",
       "      <td>32.3</td>\n",
       "      <td>50.0</td>\n",
       "    </tr>\n",
       "    <tr>\n",
       "      <th>1</th>\n",
       "      <td>5.5</td>\n",
       "      <td>73.0</td>\n",
       "      <td>10.0</td>\n",
       "    </tr>\n",
       "  </tbody>\n",
       "</table>\n",
       "</div>"
      ],
      "text/plain": [
       "      0     1     2\n",
       "0  12.0  32.3  50.0\n",
       "1   5.5  73.0  10.0"
      ]
     },
     "execution_count": 11,
     "metadata": {},
     "output_type": "execute_result"
    }
   ],
   "source": [
    "df = pd.DataFrame(a2)\n",
    "df"
   ]
  },
  {
   "cell_type": "markdown",
   "id": "d6242f5f-dcce-44f3-8e68-7d6ed53ea3bd",
   "metadata": {},
   "source": [
    "## 2. Creating Arrays"
   ]
  },
  {
   "cell_type": "code",
   "execution_count": 12,
   "id": "c8d56a43-2ef4-4ac0-a2df-6bbbeb8ba848",
   "metadata": {},
   "outputs": [
    {
     "data": {
      "text/plain": [
       "array([1, 2, 3])"
      ]
     },
     "execution_count": 12,
     "metadata": {},
     "output_type": "execute_result"
    }
   ],
   "source": [
    "sample_array = np.array([1, 2, 3])\n",
    "sample_array"
   ]
  },
  {
   "cell_type": "code",
   "execution_count": 13,
   "id": "aa876a40-119a-4760-ba57-0290d32769cf",
   "metadata": {},
   "outputs": [
    {
     "data": {
      "text/plain": [
       "array([[1., 1., 1.],\n",
       "       [1., 1., 1.]])"
      ]
     },
     "execution_count": 13,
     "metadata": {},
     "output_type": "execute_result"
    }
   ],
   "source": [
    "ones = np.ones((2, 3))\n",
    "ones"
   ]
  },
  {
   "cell_type": "code",
   "execution_count": 14,
   "id": "5707b1e2-cf25-46a3-bb04-58e0569e9050",
   "metadata": {},
   "outputs": [
    {
     "data": {
      "text/plain": [
       "array([[0., 0., 0.],\n",
       "       [0., 0., 0.]])"
      ]
     },
     "execution_count": 14,
     "metadata": {},
     "output_type": "execute_result"
    }
   ],
   "source": [
    "zeros = np.zeros((2, 3))\n",
    "zeros"
   ]
  },
  {
   "cell_type": "code",
   "execution_count": 15,
   "id": "ae29201d-3254-48fa-8b9a-f5156212e990",
   "metadata": {},
   "outputs": [
    {
     "data": {
      "text/plain": [
       "array([0, 2, 4, 6, 8])"
      ]
     },
     "execution_count": 15,
     "metadata": {},
     "output_type": "execute_result"
    }
   ],
   "source": [
    "range = np.arange(0, 10, 2)\n",
    "range"
   ]
  },
  {
   "cell_type": "code",
   "execution_count": 16,
   "id": "0d267840-27bf-4884-b605-523ed7f50edd",
   "metadata": {},
   "outputs": [
    {
     "data": {
      "text/plain": [
       "array([[32, 42, 17, 25, 59],\n",
       "       [ 7, 43, 92,  2, 40],\n",
       "       [30,  2, 23, 71, 63]])"
      ]
     },
     "execution_count": 16,
     "metadata": {},
     "output_type": "execute_result"
    }
   ],
   "source": [
    "random_array_1 = np.random.randint(0, 100, size=(3, 5))\n",
    "random_array_1"
   ]
  },
  {
   "cell_type": "code",
   "execution_count": 17,
   "id": "6f360862-d61b-4f8e-ba3b-c4eb1fd540ef",
   "metadata": {},
   "outputs": [
    {
     "data": {
      "text/plain": [
       "array([[0.38214249, 0.27542382, 0.98640779],\n",
       "       [0.87921978, 0.67883197, 0.64057717],\n",
       "       [0.89276574, 0.18574403, 0.27240557],\n",
       "       [0.30082805, 0.3114706 , 0.44768958],\n",
       "       [0.51626654, 0.04750345, 0.51558649]])"
      ]
     },
     "execution_count": 17,
     "metadata": {},
     "output_type": "execute_result"
    }
   ],
   "source": [
    "random_array_2 = np.random.random((5, 3))\n",
    "random_array_2"
   ]
  },
  {
   "cell_type": "code",
   "execution_count": 18,
   "id": "64a5005f-af6b-401b-baf0-8852726d9634",
   "metadata": {},
   "outputs": [
    {
     "data": {
      "text/plain": [
       "array([[0.48919542, 0.66790807, 0.82000261],\n",
       "       [0.23936097, 0.49096796, 0.2605827 ],\n",
       "       [0.47033532, 0.65486887, 0.92843985],\n",
       "       [0.22370225, 0.31752156, 0.75305599],\n",
       "       [0.46583943, 0.86593992, 0.39656706]])"
      ]
     },
     "execution_count": 18,
     "metadata": {},
     "output_type": "execute_result"
    }
   ],
   "source": [
    "random_array_3 = np.random.rand(5,3)\n",
    "random_array_3"
   ]
  },
  {
   "cell_type": "markdown",
   "id": "a1394219-82c5-427b-83c2-1569f89c4d79",
   "metadata": {},
   "source": [
    "### Using Random Seed"
   ]
  },
  {
   "cell_type": "code",
   "execution_count": 19,
   "id": "d7ea1d4b-9a7e-46c6-8129-2948710c047a",
   "metadata": {},
   "outputs": [
    {
     "data": {
      "text/plain": [
       "array([[37, 12, 72],\n",
       "       [ 9, 75,  5],\n",
       "       [79, 64, 16],\n",
       "       [ 1, 76, 71],\n",
       "       [ 6, 25, 50]])"
      ]
     },
     "execution_count": 19,
     "metadata": {},
     "output_type": "execute_result"
    }
   ],
   "source": [
    "np.random.seed(1)\n",
    "random_array_4 = np.random.randint(0, 100, size=(5,3))\n",
    "random_array_4"
   ]
  },
  {
   "cell_type": "code",
   "execution_count": 20,
   "id": "6c4ef5b3-050e-49e9-9238-36cc11ca7610",
   "metadata": {},
   "outputs": [
    {
     "data": {
      "text/plain": [
       "array([[0.94763226, 0.22654742, 0.59442014, 0.42830868, 0.76414069,\n",
       "        0.00286059, 0.35742368],\n",
       "       [0.90969489, 0.45608099, 0.98180271, 0.86735699, 0.98602751,\n",
       "        0.92326671, 0.30369331],\n",
       "       [0.84610349, 0.12122197, 0.78557629, 0.25050505, 0.09602971,\n",
       "        0.94349104, 0.82605015],\n",
       "       [0.51832513, 0.87350042, 0.57837569, 0.4500845 , 0.68015698,\n",
       "        0.41942562, 0.64039346]])"
      ]
     },
     "execution_count": 20,
     "metadata": {},
     "output_type": "execute_result"
    }
   ],
   "source": [
    "np.random.seed(200)\n",
    "random_array_5 = np.random.random((4,7))\n",
    "random_array_5"
   ]
  },
  {
   "cell_type": "markdown",
   "id": "43933763-0737-4f51-8a1c-e75072ab1461",
   "metadata": {},
   "source": [
    "## 3. Viewing Arrays"
   ]
  },
  {
   "cell_type": "code",
   "execution_count": 21,
   "id": "eb731a39-b77a-41cd-9b4d-15018ce58afb",
   "metadata": {},
   "outputs": [
    {
     "data": {
      "text/plain": [
       "(array([1, 2, 3]), array([ 5.5, 10. , 12. , 32.3, 50. , 73. ]))"
      ]
     },
     "execution_count": 21,
     "metadata": {},
     "output_type": "execute_result"
    }
   ],
   "source": [
    "np.unique(a1), np.unique(a2)"
   ]
  },
  {
   "cell_type": "code",
   "execution_count": 22,
   "id": "b671b983-40e2-4d93-9cd0-e5383cf6c6b4",
   "metadata": {},
   "outputs": [
    {
     "data": {
      "text/plain": [
       "array([1, 2, 3])"
      ]
     },
     "execution_count": 22,
     "metadata": {},
     "output_type": "execute_result"
    }
   ],
   "source": [
    "a1"
   ]
  },
  {
   "cell_type": "code",
   "execution_count": 23,
   "id": "5545d522-db23-484d-8d2a-a91e8e1f9457",
   "metadata": {},
   "outputs": [
    {
     "data": {
      "text/plain": [
       "2"
      ]
     },
     "execution_count": 23,
     "metadata": {},
     "output_type": "execute_result"
    }
   ],
   "source": [
    "a1[1]"
   ]
  },
  {
   "cell_type": "code",
   "execution_count": 24,
   "id": "90a3487d-bb75-4502-8b94-16abead62121",
   "metadata": {},
   "outputs": [
    {
     "data": {
      "text/plain": [
       "array([[12. , 32.3, 50. ],\n",
       "       [ 5.5, 73. , 10. ]])"
      ]
     },
     "execution_count": 24,
     "metadata": {},
     "output_type": "execute_result"
    }
   ],
   "source": [
    "a2"
   ]
  },
  {
   "cell_type": "code",
   "execution_count": 25,
   "id": "d929c844-f8a9-4e8d-a7d0-872c82e48fd7",
   "metadata": {},
   "outputs": [
    {
     "data": {
      "text/plain": [
       "32.3"
      ]
     },
     "execution_count": 25,
     "metadata": {},
     "output_type": "execute_result"
    }
   ],
   "source": [
    "a2[0, 1]"
   ]
  },
  {
   "cell_type": "code",
   "execution_count": 26,
   "id": "f279fe5f-710d-4883-85b4-a39711927470",
   "metadata": {},
   "outputs": [
    {
     "data": {
      "text/plain": [
       "array([[[ 1,  2,  3],\n",
       "        [ 4,  5,  6],\n",
       "        [ 7,  8,  9]],\n",
       "\n",
       "       [[10, 11, 12],\n",
       "        [13, 14, 15],\n",
       "        [16, 17, 18]]])"
      ]
     },
     "execution_count": 26,
     "metadata": {},
     "output_type": "execute_result"
    }
   ],
   "source": [
    "a3"
   ]
  },
  {
   "cell_type": "code",
   "execution_count": 27,
   "id": "d45fa7d7-8184-4e3d-9894-cbd654836de0",
   "metadata": {},
   "outputs": [
    {
     "data": {
      "text/plain": [
       "array([[[ 1,  2],\n",
       "        [ 4,  5]],\n",
       "\n",
       "       [[10, 11],\n",
       "        [13, 14]]])"
      ]
     },
     "execution_count": 27,
     "metadata": {},
     "output_type": "execute_result"
    }
   ],
   "source": [
    "a3[:2, :2, :2]"
   ]
  },
  {
   "cell_type": "code",
   "execution_count": 28,
   "id": "65355d0c-846d-4fa2-a351-783955fbc249",
   "metadata": {},
   "outputs": [
    {
     "data": {
      "text/plain": [
       "array([[[[3, 1, 8, 0, 4],\n",
       "         [6, 3, 4, 4, 6],\n",
       "         [2, 0, 4, 0, 9],\n",
       "         [4, 2, 7, 1, 8]],\n",
       "\n",
       "        [[6, 7, 1, 9, 1],\n",
       "         [7, 5, 8, 1, 1],\n",
       "         [1, 7, 0, 2, 6],\n",
       "         [5, 1, 1, 1, 8]],\n",
       "\n",
       "        [[3, 0, 7, 8, 4],\n",
       "         [3, 6, 0, 7, 9],\n",
       "         [1, 5, 4, 1, 4],\n",
       "         [5, 7, 2, 0, 9]]],\n",
       "\n",
       "\n",
       "       [[[7, 0, 5, 4, 6],\n",
       "         [6, 9, 6, 7, 0],\n",
       "         [2, 2, 0, 8, 3],\n",
       "         [4, 8, 1, 1, 8]],\n",
       "\n",
       "        [[0, 2, 3, 4, 7],\n",
       "         [8, 1, 4, 8, 4],\n",
       "         [6, 3, 3, 0, 4],\n",
       "         [2, 5, 9, 5, 5]],\n",
       "\n",
       "        [[8, 8, 4, 1, 2],\n",
       "         [1, 8, 5, 8, 5],\n",
       "         [4, 6, 4, 6, 0],\n",
       "         [7, 8, 4, 4, 0]]]])"
      ]
     },
     "execution_count": 28,
     "metadata": {},
     "output_type": "execute_result"
    }
   ],
   "source": [
    "a4 = np.random.randint(10, size=(2, 3, 4, 5))\n",
    "a4"
   ]
  },
  {
   "cell_type": "code",
   "execution_count": 29,
   "id": "85c59ce2-a618-4e81-9eb0-fc74f9af64d0",
   "metadata": {},
   "outputs": [
    {
     "data": {
      "text/plain": [
       "array([[[[3, 1],\n",
       "         [6, 3],\n",
       "         [2, 0],\n",
       "         [4, 2]],\n",
       "\n",
       "        [[6, 7],\n",
       "         [7, 5],\n",
       "         [1, 7],\n",
       "         [5, 1]]],\n",
       "\n",
       "\n",
       "       [[[7, 0],\n",
       "         [6, 9],\n",
       "         [2, 2],\n",
       "         [4, 8]],\n",
       "\n",
       "        [[0, 2],\n",
       "         [8, 1],\n",
       "         [6, 3],\n",
       "         [2, 5]]]])"
      ]
     },
     "execution_count": 29,
     "metadata": {},
     "output_type": "execute_result"
    }
   ],
   "source": [
    "a4[:,:2,:4,:2]"
   ]
  },
  {
   "cell_type": "markdown",
   "id": "ff41d657-a6a5-40a6-b799-fa7b81c5f5f8",
   "metadata": {},
   "source": [
    "## 4. Manipulating and Comparing Arrays"
   ]
  },
  {
   "cell_type": "markdown",
   "id": "78040c52-7809-484b-8736-7a69a92fbf88",
   "metadata": {},
   "source": [
    "### Arithmetic"
   ]
  },
  {
   "cell_type": "markdown",
   "id": "41c2f143-42bd-456c-ab61-22c6233fe83a",
   "metadata": {},
   "source": [
    "#### Addition"
   ]
  },
  {
   "cell_type": "code",
   "execution_count": 30,
   "id": "1a0b5932-2d20-492e-af82-3aebac6ad9d4",
   "metadata": {},
   "outputs": [
    {
     "data": {
      "text/plain": [
       "array([1, 2, 3])"
      ]
     },
     "execution_count": 30,
     "metadata": {},
     "output_type": "execute_result"
    }
   ],
   "source": [
    "a1"
   ]
  },
  {
   "cell_type": "code",
   "execution_count": 31,
   "id": "11355407-dcd5-4d5b-9619-ddd240da40db",
   "metadata": {},
   "outputs": [
    {
     "data": {
      "text/plain": [
       "array([[1., 1., 1.],\n",
       "       [1., 1., 1.]])"
      ]
     },
     "execution_count": 31,
     "metadata": {},
     "output_type": "execute_result"
    }
   ],
   "source": [
    "ones"
   ]
  },
  {
   "cell_type": "code",
   "execution_count": 32,
   "id": "4bda6f39-0eb0-4b87-8e80-5c24fd0e3143",
   "metadata": {},
   "outputs": [
    {
     "data": {
      "text/plain": [
       "array([[2., 3., 4.],\n",
       "       [2., 3., 4.]])"
      ]
     },
     "execution_count": 32,
     "metadata": {},
     "output_type": "execute_result"
    }
   ],
   "source": [
    "a1 + ones"
   ]
  },
  {
   "cell_type": "markdown",
   "id": "d328f3fa-9034-4bc6-8d94-7f67bee56969",
   "metadata": {},
   "source": [
    "#### Subtraction"
   ]
  },
  {
   "cell_type": "code",
   "execution_count": 33,
   "id": "016524dd-cd32-4451-a037-e6f202413a66",
   "metadata": {},
   "outputs": [
    {
     "data": {
      "text/plain": [
       "array([1, 2, 3])"
      ]
     },
     "execution_count": 33,
     "metadata": {},
     "output_type": "execute_result"
    }
   ],
   "source": [
    "a1"
   ]
  },
  {
   "cell_type": "code",
   "execution_count": 34,
   "id": "b7e76e49-1d7d-48b0-a9d9-7925f02a86ed",
   "metadata": {},
   "outputs": [
    {
     "data": {
      "text/plain": [
       "array([[1., 1., 1.],\n",
       "       [1., 1., 1.]])"
      ]
     },
     "execution_count": 34,
     "metadata": {},
     "output_type": "execute_result"
    }
   ],
   "source": [
    "ones"
   ]
  },
  {
   "cell_type": "code",
   "execution_count": 35,
   "id": "4dfbeb59-f979-44f6-8b13-ae410de4eef6",
   "metadata": {},
   "outputs": [
    {
     "data": {
      "text/plain": [
       "array([[0., 1., 2.],\n",
       "       [0., 1., 2.]])"
      ]
     },
     "execution_count": 35,
     "metadata": {},
     "output_type": "execute_result"
    }
   ],
   "source": [
    "a1 - ones"
   ]
  },
  {
   "cell_type": "code",
   "execution_count": 36,
   "id": "2a86b388-ced3-4227-b7f8-1e5a125b90fe",
   "metadata": {},
   "outputs": [
    {
     "data": {
      "text/plain": [
       "array([[12. , 32.3, 50. ],\n",
       "       [ 5.5, 73. , 10. ]])"
      ]
     },
     "execution_count": 36,
     "metadata": {},
     "output_type": "execute_result"
    }
   ],
   "source": [
    "a2"
   ]
  },
  {
   "cell_type": "code",
   "execution_count": 37,
   "id": "3af34332-7bb8-45c5-9894-719cba7987a6",
   "metadata": {},
   "outputs": [
    {
     "data": {
      "text/plain": [
       "array([[1., 1., 1.],\n",
       "       [1., 1., 1.]])"
      ]
     },
     "execution_count": 37,
     "metadata": {},
     "output_type": "execute_result"
    }
   ],
   "source": [
    "ones"
   ]
  },
  {
   "cell_type": "code",
   "execution_count": 38,
   "id": "f2ee2d31-2704-427a-8cf9-768a09250eb3",
   "metadata": {},
   "outputs": [
    {
     "data": {
      "text/plain": [
       "array([[11. , 31.3, 49. ],\n",
       "       [ 4.5, 72. ,  9. ]])"
      ]
     },
     "execution_count": 38,
     "metadata": {},
     "output_type": "execute_result"
    }
   ],
   "source": [
    "a2 - ones"
   ]
  },
  {
   "cell_type": "markdown",
   "id": "a40db960-d27b-40ad-9aca-7053e75deb34",
   "metadata": {},
   "source": [
    "#### Multiplication"
   ]
  },
  {
   "cell_type": "code",
   "execution_count": 39,
   "id": "bdecea15-2895-42ac-8464-c1d81d263015",
   "metadata": {},
   "outputs": [
    {
     "data": {
      "text/plain": [
       "array([1, 2, 3])"
      ]
     },
     "execution_count": 39,
     "metadata": {},
     "output_type": "execute_result"
    }
   ],
   "source": [
    "a1"
   ]
  },
  {
   "cell_type": "code",
   "execution_count": 40,
   "id": "e0a2acf7-ec35-4a37-9892-b7f2545d631b",
   "metadata": {},
   "outputs": [
    {
     "data": {
      "text/plain": [
       "array([[1., 1., 1.],\n",
       "       [1., 1., 1.]])"
      ]
     },
     "execution_count": 40,
     "metadata": {},
     "output_type": "execute_result"
    }
   ],
   "source": [
    "ones"
   ]
  },
  {
   "cell_type": "code",
   "execution_count": 41,
   "id": "4a1cadc1-0df2-49f8-9957-1e58bbc81613",
   "metadata": {},
   "outputs": [
    {
     "data": {
      "text/plain": [
       "array([[1., 2., 3.],\n",
       "       [1., 2., 3.]])"
      ]
     },
     "execution_count": 41,
     "metadata": {},
     "output_type": "execute_result"
    }
   ],
   "source": [
    "a1 * ones"
   ]
  },
  {
   "cell_type": "code",
   "execution_count": 42,
   "id": "156ee136-f61c-40ea-a759-7ece49eea6b3",
   "metadata": {},
   "outputs": [
    {
     "data": {
      "text/plain": [
       "array([[12. , 32.3, 50. ],\n",
       "       [ 5.5, 73. , 10. ]])"
      ]
     },
     "execution_count": 42,
     "metadata": {},
     "output_type": "execute_result"
    }
   ],
   "source": [
    "a2"
   ]
  },
  {
   "cell_type": "code",
   "execution_count": 43,
   "id": "a42a503a-994e-4a25-a51f-c2f1b791256c",
   "metadata": {},
   "outputs": [
    {
     "data": {
      "text/plain": [
       "array([[1., 1., 1.],\n",
       "       [1., 1., 1.]])"
      ]
     },
     "execution_count": 43,
     "metadata": {},
     "output_type": "execute_result"
    }
   ],
   "source": [
    "ones"
   ]
  },
  {
   "cell_type": "code",
   "execution_count": 44,
   "id": "4dd5989e-6c93-4437-a6fd-b841f8288061",
   "metadata": {},
   "outputs": [
    {
     "data": {
      "text/plain": [
       "array([[12. , 32.3, 50. ],\n",
       "       [ 5.5, 73. , 10. ]])"
      ]
     },
     "execution_count": 44,
     "metadata": {},
     "output_type": "execute_result"
    }
   ],
   "source": [
    "a2 * ones"
   ]
  },
  {
   "cell_type": "code",
   "execution_count": 45,
   "id": "4deeb405-afe4-42eb-ba51-f0a1695e1bef",
   "metadata": {},
   "outputs": [
    {
     "data": {
      "text/plain": [
       "array([[[ 1,  2,  3],\n",
       "        [ 4,  5,  6],\n",
       "        [ 7,  8,  9]],\n",
       "\n",
       "       [[10, 11, 12],\n",
       "        [13, 14, 15],\n",
       "        [16, 17, 18]]])"
      ]
     },
     "execution_count": 45,
     "metadata": {},
     "output_type": "execute_result"
    }
   ],
   "source": [
    "a3"
   ]
  },
  {
   "cell_type": "code",
   "execution_count": 46,
   "id": "b8253b20-e62e-4e3a-b98e-06b183d8508b",
   "metadata": {},
   "outputs": [
    {
     "data": {
      "text/plain": [
       "array([[1., 1., 1.],\n",
       "       [1., 1., 1.]])"
      ]
     },
     "execution_count": 46,
     "metadata": {},
     "output_type": "execute_result"
    }
   ],
   "source": [
    "ones"
   ]
  },
  {
   "cell_type": "code",
   "execution_count": 47,
   "id": "edf08170-10c1-4443-aaa0-646776d82556",
   "metadata": {},
   "outputs": [
    {
     "data": {
      "text/plain": [
       "((2, 3, 3), (2, 3))"
      ]
     },
     "execution_count": 47,
     "metadata": {},
     "output_type": "execute_result"
    }
   ],
   "source": [
    "a3.shape, ones.shape"
   ]
  },
  {
   "cell_type": "code",
   "execution_count": 48,
   "id": "930e2879-09b1-4b18-b06a-5dcc2218aa23",
   "metadata": {},
   "outputs": [
    {
     "data": {
      "text/plain": [
       "array([[[1., 1., 1.],\n",
       "        [1., 1., 1.]]])"
      ]
     },
     "execution_count": 48,
     "metadata": {},
     "output_type": "execute_result"
    }
   ],
   "source": [
    "ones[np.newaxis]"
   ]
  },
  {
   "cell_type": "code",
   "execution_count": 49,
   "id": "edd27cd8-a025-49b0-ab38-01fef161577d",
   "metadata": {},
   "outputs": [
    {
     "data": {
      "text/plain": [
       "array([[[ 1,  2,  3],\n",
       "        [ 4,  5,  6],\n",
       "        [ 7,  8,  9]],\n",
       "\n",
       "       [[10, 11, 12],\n",
       "        [13, 14, 15],\n",
       "        [16, 17, 18]]])"
      ]
     },
     "execution_count": 49,
     "metadata": {},
     "output_type": "execute_result"
    }
   ],
   "source": [
    "a3"
   ]
  },
  {
   "cell_type": "code",
   "execution_count": 50,
   "id": "81390e24-92a2-44e4-858a-191a53b9d1e4",
   "metadata": {},
   "outputs": [
    {
     "data": {
      "text/plain": [
       "(1, 2, 3)"
      ]
     },
     "execution_count": 50,
     "metadata": {},
     "output_type": "execute_result"
    }
   ],
   "source": [
    "ones[np.newaxis].shape"
   ]
  },
  {
   "cell_type": "code",
   "execution_count": 51,
   "id": "6d096771-b302-4be1-bbca-1e3ccfcfd993",
   "metadata": {},
   "outputs": [
    {
     "data": {
      "text/plain": [
       "(2, 3, 3)"
      ]
     },
     "execution_count": 51,
     "metadata": {},
     "output_type": "execute_result"
    }
   ],
   "source": [
    "a3.shape"
   ]
  },
  {
   "cell_type": "markdown",
   "id": "418f79f2-4b88-4deb-b72c-b4d2d866f6ef",
   "metadata": {},
   "source": [
    "We used np.newaxis to add another dimension to our array to make the shape compatible for broadcast"
   ]
  },
  {
   "cell_type": "code",
   "execution_count": 52,
   "id": "3969f0d7-16ea-4fb4-b315-1184e2a2b42a",
   "metadata": {},
   "outputs": [
    {
     "data": {
      "text/plain": [
       "array([[[1.],\n",
       "        [1.],\n",
       "        [1.]],\n",
       "\n",
       "       [[1.],\n",
       "        [1.],\n",
       "        [1.]]])"
      ]
     },
     "execution_count": 52,
     "metadata": {},
     "output_type": "execute_result"
    }
   ],
   "source": [
    "ones[:, :, np.newaxis]"
   ]
  },
  {
   "cell_type": "code",
   "execution_count": 53,
   "id": "32563c6f-8255-4aa0-9a13-87b6706cd98f",
   "metadata": {},
   "outputs": [
    {
     "data": {
      "text/plain": [
       "(2, 3, 1)"
      ]
     },
     "execution_count": 53,
     "metadata": {},
     "output_type": "execute_result"
    }
   ],
   "source": [
    "ones[:, :, np.newaxis].shape"
   ]
  },
  {
   "cell_type": "code",
   "execution_count": 54,
   "id": "66532d22-8726-43e4-accc-591a54a9c788",
   "metadata": {},
   "outputs": [
    {
     "data": {
      "text/plain": [
       "array([[[ 1.,  2.,  3.],\n",
       "        [ 4.,  5.,  6.],\n",
       "        [ 7.,  8.,  9.]],\n",
       "\n",
       "       [[10., 11., 12.],\n",
       "        [13., 14., 15.],\n",
       "        [16., 17., 18.]]])"
      ]
     },
     "execution_count": 54,
     "metadata": {},
     "output_type": "execute_result"
    }
   ],
   "source": [
    "a3 * ones[:, :, np.newaxis]"
   ]
  },
  {
   "cell_type": "markdown",
   "id": "fc2c3e3c-826b-4ab4-bde4-4d8c6da5562c",
   "metadata": {},
   "source": [
    "#### Division"
   ]
  },
  {
   "cell_type": "code",
   "execution_count": 55,
   "id": "73c5a681-1cb6-446d-8390-e6b727fb6188",
   "metadata": {},
   "outputs": [
    {
     "data": {
      "text/plain": [
       "array([1, 2, 3])"
      ]
     },
     "execution_count": 55,
     "metadata": {},
     "output_type": "execute_result"
    }
   ],
   "source": [
    "a1"
   ]
  },
  {
   "cell_type": "code",
   "execution_count": 56,
   "id": "9f0eccd5-78d6-4f05-b382-1fbc27ee81b8",
   "metadata": {},
   "outputs": [
    {
     "data": {
      "text/plain": [
       "array([[1., 1., 1.],\n",
       "       [1., 1., 1.]])"
      ]
     },
     "execution_count": 56,
     "metadata": {},
     "output_type": "execute_result"
    }
   ],
   "source": [
    "ones"
   ]
  },
  {
   "cell_type": "code",
   "execution_count": 57,
   "id": "43fee862-6d51-4c60-9ae5-cb8502e4f829",
   "metadata": {},
   "outputs": [
    {
     "data": {
      "text/plain": [
       "array([[1., 2., 3.],\n",
       "       [1., 2., 3.]])"
      ]
     },
     "execution_count": 57,
     "metadata": {},
     "output_type": "execute_result"
    }
   ],
   "source": [
    "a1 / ones"
   ]
  },
  {
   "cell_type": "code",
   "execution_count": 58,
   "id": "bac75b3d-2ba6-4c73-8ede-0ce6b15575b9",
   "metadata": {},
   "outputs": [
    {
     "data": {
      "text/plain": [
       "array([[12. , 32.3, 50. ],\n",
       "       [ 5.5, 73. , 10. ]])"
      ]
     },
     "execution_count": 58,
     "metadata": {},
     "output_type": "execute_result"
    }
   ],
   "source": [
    "a2"
   ]
  },
  {
   "cell_type": "code",
   "execution_count": 59,
   "id": "5f9cab0e-fd1c-441d-9cc7-d71aff5f33f5",
   "metadata": {},
   "outputs": [
    {
     "data": {
      "text/plain": [
       "array([[12. , 32.3, 50. ],\n",
       "       [ 5.5, 73. , 10. ]])"
      ]
     },
     "execution_count": 59,
     "metadata": {},
     "output_type": "execute_result"
    }
   ],
   "source": [
    "a2 / ones"
   ]
  },
  {
   "cell_type": "code",
   "execution_count": 60,
   "id": "b38a6a9b-f63f-46ed-b0e6-b2d30d6343ea",
   "metadata": {},
   "outputs": [
    {
     "data": {
      "text/plain": [
       "array([[[ 1,  2,  3],\n",
       "        [ 4,  5,  6],\n",
       "        [ 7,  8,  9]],\n",
       "\n",
       "       [[10, 11, 12],\n",
       "        [13, 14, 15],\n",
       "        [16, 17, 18]]])"
      ]
     },
     "execution_count": 60,
     "metadata": {},
     "output_type": "execute_result"
    }
   ],
   "source": [
    "a3 "
   ]
  },
  {
   "cell_type": "code",
   "execution_count": 61,
   "id": "1d9bec33-8aef-4278-9b27-c312af69d39d",
   "metadata": {},
   "outputs": [
    {
     "data": {
      "text/plain": [
       "array([[[ 1.,  2.,  3.],\n",
       "        [ 4.,  5.,  6.],\n",
       "        [ 7.,  8.,  9.]],\n",
       "\n",
       "       [[10., 11., 12.],\n",
       "        [13., 14., 15.],\n",
       "        [16., 17., 18.]]])"
      ]
     },
     "execution_count": 61,
     "metadata": {},
     "output_type": "execute_result"
    }
   ],
   "source": [
    "a3 / ones[:, :, np.newaxis]"
   ]
  },
  {
   "cell_type": "markdown",
   "id": "53d1ed8f-4e01-4427-9f53-36191b1b5360",
   "metadata": {},
   "source": [
    "#### Power"
   ]
  },
  {
   "cell_type": "code",
   "execution_count": 62,
   "id": "aa935d0c-d8e7-446d-b2e3-7e67922cd1d6",
   "metadata": {},
   "outputs": [
    {
     "data": {
      "text/plain": [
       "array([1, 2, 3])"
      ]
     },
     "execution_count": 62,
     "metadata": {},
     "output_type": "execute_result"
    }
   ],
   "source": [
    "a1 "
   ]
  },
  {
   "cell_type": "code",
   "execution_count": 63,
   "id": "84436eb8-7710-4d72-aa64-8e31e2ec56ae",
   "metadata": {},
   "outputs": [
    {
     "data": {
      "text/plain": [
       "array([1, 4, 9])"
      ]
     },
     "execution_count": 63,
     "metadata": {},
     "output_type": "execute_result"
    }
   ],
   "source": [
    "a1 ** 2"
   ]
  },
  {
   "cell_type": "markdown",
   "id": "2411f372-c167-4e07-a5c2-b0e07dc3219e",
   "metadata": {},
   "source": [
    "#### Floor Division"
   ]
  },
  {
   "cell_type": "code",
   "execution_count": 64,
   "id": "6af98985-8801-4e4e-8acc-f9ff31c4f9b3",
   "metadata": {},
   "outputs": [
    {
     "data": {
      "text/plain": [
       "array([[12. , 32.3, 50. ],\n",
       "       [ 5.5, 73. , 10. ]])"
      ]
     },
     "execution_count": 64,
     "metadata": {},
     "output_type": "execute_result"
    }
   ],
   "source": [
    "a2"
   ]
  },
  {
   "cell_type": "code",
   "execution_count": 65,
   "id": "e56ee660-3f12-4f79-a8c5-73f095c76283",
   "metadata": {},
   "outputs": [
    {
     "data": {
      "text/plain": [
       "array([1, 2, 3])"
      ]
     },
     "execution_count": 65,
     "metadata": {},
     "output_type": "execute_result"
    }
   ],
   "source": [
    "a1"
   ]
  },
  {
   "cell_type": "code",
   "execution_count": 66,
   "id": "43a0e415-127f-40a6-8713-a8b432771666",
   "metadata": {},
   "outputs": [
    {
     "data": {
      "text/plain": [
       "array([[12., 16., 16.],\n",
       "       [ 5., 36.,  3.]])"
      ]
     },
     "execution_count": 66,
     "metadata": {},
     "output_type": "execute_result"
    }
   ],
   "source": [
    "a2 // a1"
   ]
  },
  {
   "cell_type": "markdown",
   "id": "0c226393-e886-4642-a4fc-c2c648e2c0f0",
   "metadata": {},
   "source": [
    "#### Modulus"
   ]
  },
  {
   "cell_type": "code",
   "execution_count": 67,
   "id": "4948043b-9a6a-48b8-b49b-a5060c7cf016",
   "metadata": {},
   "outputs": [
    {
     "data": {
      "text/plain": [
       "array([1, 2, 3])"
      ]
     },
     "execution_count": 67,
     "metadata": {},
     "output_type": "execute_result"
    }
   ],
   "source": [
    "a1"
   ]
  },
  {
   "cell_type": "code",
   "execution_count": 68,
   "id": "69fcb818-6257-46ae-96b1-6fdf5cbf8bc1",
   "metadata": {},
   "outputs": [
    {
     "data": {
      "text/plain": [
       "array([1, 0, 1], dtype=int32)"
      ]
     },
     "execution_count": 68,
     "metadata": {},
     "output_type": "execute_result"
    }
   ],
   "source": [
    "a1 % 2"
   ]
  },
  {
   "cell_type": "code",
   "execution_count": 69,
   "id": "7656a438-9ce2-4f12-9de2-6748d2fafb8e",
   "metadata": {},
   "outputs": [
    {
     "data": {
      "text/plain": [
       "array([[[ 1,  2,  3],\n",
       "        [ 4,  5,  6],\n",
       "        [ 7,  8,  9]],\n",
       "\n",
       "       [[10, 11, 12],\n",
       "        [13, 14, 15],\n",
       "        [16, 17, 18]]])"
      ]
     },
     "execution_count": 69,
     "metadata": {},
     "output_type": "execute_result"
    }
   ],
   "source": [
    "a3 "
   ]
  },
  {
   "cell_type": "code",
   "execution_count": 70,
   "id": "4218975f-271e-446f-9322-8b17ad5ed9e3",
   "metadata": {},
   "outputs": [
    {
     "data": {
      "text/plain": [
       "array([[[1, 0, 1],\n",
       "        [0, 1, 0],\n",
       "        [1, 0, 1]],\n",
       "\n",
       "       [[0, 1, 0],\n",
       "        [1, 0, 1],\n",
       "        [0, 1, 0]]], dtype=int32)"
      ]
     },
     "execution_count": 70,
     "metadata": {},
     "output_type": "execute_result"
    }
   ],
   "source": [
    "a3 % 2"
   ]
  },
  {
   "cell_type": "markdown",
   "id": "d12db6f5-d9e3-4493-910e-7f6ffac10d40",
   "metadata": {},
   "source": [
    "## 5. Aggregation"
   ]
  },
  {
   "cell_type": "code",
   "execution_count": 71,
   "id": "f70d409f-5deb-4116-a28e-b6492a99ab2e",
   "metadata": {},
   "outputs": [
    {
     "data": {
      "text/plain": [
       "6"
      ]
     },
     "execution_count": 71,
     "metadata": {},
     "output_type": "execute_result"
    }
   ],
   "source": [
    "np.sum(a1)"
   ]
  },
  {
   "cell_type": "code",
   "execution_count": 72,
   "id": "53ce294a-81d3-4847-9c0a-ecb27961064d",
   "metadata": {},
   "outputs": [
    {
     "data": {
      "text/plain": [
       "30.46666666666667"
      ]
     },
     "execution_count": 72,
     "metadata": {},
     "output_type": "execute_result"
    }
   ],
   "source": [
    "np.mean(a2)"
   ]
  },
  {
   "cell_type": "code",
   "execution_count": 73,
   "id": "9ffc423b-d5d9-4f53-874a-79d4bc92dc90",
   "metadata": {},
   "outputs": [
    {
     "data": {
      "text/plain": [
       "18"
      ]
     },
     "execution_count": 73,
     "metadata": {},
     "output_type": "execute_result"
    }
   ],
   "source": [
    "np.max(a3)"
   ]
  },
  {
   "cell_type": "code",
   "execution_count": 74,
   "id": "d06a7231-d88b-4ad4-a704-e94fea4daa7c",
   "metadata": {},
   "outputs": [
    {
     "data": {
      "text/plain": [
       "1"
      ]
     },
     "execution_count": 74,
     "metadata": {},
     "output_type": "execute_result"
    }
   ],
   "source": [
    "np.min(a3)"
   ]
  },
  {
   "cell_type": "code",
   "execution_count": 75,
   "id": "792d25a0-8adb-40f5-a2ae-04ae01e4b189",
   "metadata": {},
   "outputs": [
    {
     "data": {
      "text/plain": [
       "5.188127472091127"
      ]
     },
     "execution_count": 75,
     "metadata": {},
     "output_type": "execute_result"
    }
   ],
   "source": [
    "np.std(a3)"
   ]
  },
  {
   "cell_type": "code",
   "execution_count": 76,
   "id": "39fa4be4-5879-4e58-b542-5163ff83c431",
   "metadata": {},
   "outputs": [
    {
     "data": {
      "text/plain": [
       "26.916666666666668"
      ]
     },
     "execution_count": 76,
     "metadata": {},
     "output_type": "execute_result"
    }
   ],
   "source": [
    "np.var(a3)"
   ]
  },
  {
   "cell_type": "code",
   "execution_count": 77,
   "id": "f06882fb-5dfe-407e-9265-2666eb0bdd7c",
   "metadata": {},
   "outputs": [
    {
     "data": {
      "text/plain": [
       "5.188127472091127"
      ]
     },
     "execution_count": 77,
     "metadata": {},
     "output_type": "execute_result"
    }
   ],
   "source": [
    "np.sqrt(np.var(a3))"
   ]
  },
  {
   "cell_type": "code",
   "execution_count": 78,
   "id": "043ea2b4-971c-482a-be04-7ef385fe9ad1",
   "metadata": {},
   "outputs": [
    {
     "data": {
      "text/plain": [
       "(array([    1,   200,   800,  2000, 50000]), array([1, 2, 3, 4, 5]))"
      ]
     },
     "execution_count": 78,
     "metadata": {},
     "output_type": "execute_result"
    }
   ],
   "source": [
    "high_var_array = np.array([ 1, 200, 800, 2000, 50000])\n",
    "low_var_array = np.array([ 1, 2, 3, 4, 5])\n",
    "high_var_array, low_var_array"
   ]
  },
  {
   "cell_type": "code",
   "execution_count": 79,
   "id": "fc07ff85-bedf-43dd-b358-82c53a0e0c21",
   "metadata": {},
   "outputs": [
    {
     "data": {
      "text/plain": [
       "(388571760.16, 2.0)"
      ]
     },
     "execution_count": 79,
     "metadata": {},
     "output_type": "execute_result"
    }
   ],
   "source": [
    "np.var(high_var_array), np.var(low_var_array)"
   ]
  },
  {
   "cell_type": "code",
   "execution_count": 80,
   "id": "7c3e8b77-8afe-4e2f-8e78-7b65c31c2833",
   "metadata": {},
   "outputs": [
    {
     "data": {
      "text/plain": [
       "(19712.223622919868, 1.4142135623730951)"
      ]
     },
     "execution_count": 80,
     "metadata": {},
     "output_type": "execute_result"
    }
   ],
   "source": [
    "np.std(high_var_array), np.std(low_var_array)"
   ]
  },
  {
   "cell_type": "code",
   "execution_count": 81,
   "id": "35876489-8fb2-4aa5-9327-0472636c2b08",
   "metadata": {},
   "outputs": [
    {
     "data": {
      "image/png": "[encoded data removed]",
      "text/plain": [
       "<Figure size 640x480 with 1 Axes>"
      ]
     },
     "metadata": {},
     "output_type": "display_data"
    }
   ],
   "source": [
    "%matplotlib inline\n",
    "import matplotlib.pyplot as plt\n",
    "plt.hist(high_var_array)\n",
    "plt.show()"
   ]
  },
  {
   "cell_type": "code",
   "execution_count": 82,
   "id": "764c2fd3-6fde-4480-9bd1-8ff8a049f881",
   "metadata": {},
   "outputs": [
    {
     "data": {
      "image/png": "[encoded data removed]",
      "text/plain": [
       "<Figure size 640x480 with 1 Axes>"
      ]
     },
     "metadata": {},
     "output_type": "display_data"
    }
   ],
   "source": [
    "plt.hist(low_var_array)\n",
    "plt.show()"
   ]
  },
  {
   "cell_type": "markdown",
   "id": "fc333ad2-6c44-45d4-b923-eb01416ec68d",
   "metadata": {},
   "source": [
    "### Reshape and Transpose"
   ]
  },
  {
   "cell_type": "markdown",
   "id": "a1654e1f-2a46-4a5f-9226-6c3e461ae6a2",
   "metadata": {},
   "source": [
    "#### Reshaping"
   ]
  },
  {
   "cell_type": "code",
   "execution_count": 83,
   "id": "074fa53a-892d-4b90-9a15-92c439401190",
   "metadata": {},
   "outputs": [
    {
     "data": {
      "text/plain": [
       "array([[12. , 32.3, 50. ],\n",
       "       [ 5.5, 73. , 10. ]])"
      ]
     },
     "execution_count": 83,
     "metadata": {},
     "output_type": "execute_result"
    }
   ],
   "source": [
    "a2"
   ]
  },
  {
   "cell_type": "code",
   "execution_count": 84,
   "id": "1b9528f2-5a9c-49de-9f02-07d9a72cb2a0",
   "metadata": {},
   "outputs": [
    {
     "data": {
      "text/plain": [
       "array([[[ 1,  2,  3],\n",
       "        [ 4,  5,  6],\n",
       "        [ 7,  8,  9]],\n",
       "\n",
       "       [[10, 11, 12],\n",
       "        [13, 14, 15],\n",
       "        [16, 17, 18]]])"
      ]
     },
     "execution_count": 84,
     "metadata": {},
     "output_type": "execute_result"
    }
   ],
   "source": [
    "a3"
   ]
  },
  {
   "cell_type": "code",
   "execution_count": 85,
   "id": "09848734-35c4-42e9-baed-0b42a65ddf81",
   "metadata": {},
   "outputs": [
    {
     "data": {
      "text/plain": [
       "(2, 3)"
      ]
     },
     "execution_count": 85,
     "metadata": {},
     "output_type": "execute_result"
    }
   ],
   "source": [
    "a2.shape"
   ]
  },
  {
   "cell_type": "code",
   "execution_count": 86,
   "id": "84db86e5-da71-4045-a630-61f05503328a",
   "metadata": {},
   "outputs": [
    {
     "data": {
      "text/plain": [
       "(2, 3, 3)"
      ]
     },
     "execution_count": 86,
     "metadata": {},
     "output_type": "execute_result"
    }
   ],
   "source": [
    "a3.shape"
   ]
  },
  {
   "cell_type": "code",
   "execution_count": 87,
   "id": "88a23ae2-19ea-47ff-951e-725ada24da6d",
   "metadata": {},
   "outputs": [
    {
     "data": {
      "text/plain": [
       "array([[[12. ],\n",
       "        [32.3],\n",
       "        [50. ]],\n",
       "\n",
       "       [[ 5.5],\n",
       "        [73. ],\n",
       "        [10. ]]])"
      ]
     },
     "execution_count": 87,
     "metadata": {},
     "output_type": "execute_result"
    }
   ],
   "source": [
    "a2.reshape(2, 3, 1)"
   ]
  },
  {
   "cell_type": "code",
   "execution_count": 88,
   "id": "bd47a217-09c4-4c5c-810a-6b2b771172d7",
   "metadata": {},
   "outputs": [
    {
     "data": {
      "text/plain": [
       "array([[[12. ],\n",
       "        [32.3],\n",
       "        [50. ]],\n",
       "\n",
       "       [[ 5.5],\n",
       "        [73. ],\n",
       "        [10. ]]])"
      ]
     },
     "execution_count": 88,
     "metadata": {},
     "output_type": "execute_result"
    }
   ],
   "source": [
    "a2_reshaped = a2.reshape(2, 3, 1)\n",
    "a2_reshaped"
   ]
  },
  {
   "cell_type": "code",
   "execution_count": 89,
   "id": "fedc3612-77f1-4b42-ae91-f92ed74621f6",
   "metadata": {},
   "outputs": [
    {
     "data": {
      "text/plain": [
       "array([[[  12. ,   24. ,   36. ],\n",
       "        [ 129.2,  161.5,  193.8],\n",
       "        [ 350. ,  400. ,  450. ]],\n",
       "\n",
       "       [[  55. ,   60.5,   66. ],\n",
       "        [ 949. , 1022. , 1095. ],\n",
       "        [ 160. ,  170. ,  180. ]]])"
      ]
     },
     "execution_count": 89,
     "metadata": {},
     "output_type": "execute_result"
    }
   ],
   "source": [
    "a2_reshaped * a3"
   ]
  },
  {
   "cell_type": "markdown",
   "id": "6dba7f9f-e771-4569-a57a-bd8029a332ee",
   "metadata": {},
   "source": [
    "#### Transposing"
   ]
  },
  {
   "cell_type": "code",
   "execution_count": 90,
   "id": "6be6e148-d99e-4523-8424-d30424e0deac",
   "metadata": {},
   "outputs": [
    {
     "data": {
      "text/plain": [
       "array([[12. , 32.3, 50. ],\n",
       "       [ 5.5, 73. , 10. ]])"
      ]
     },
     "execution_count": 90,
     "metadata": {},
     "output_type": "execute_result"
    }
   ],
   "source": [
    "a2"
   ]
  },
  {
   "cell_type": "code",
   "execution_count": 91,
   "id": "badc970e-f734-4d2c-a50e-565d7bb52cf7",
   "metadata": {},
   "outputs": [
    {
     "data": {
      "text/plain": [
       "array([[12. ,  5.5],\n",
       "       [32.3, 73. ],\n",
       "       [50. , 10. ]])"
      ]
     },
     "execution_count": 91,
     "metadata": {},
     "output_type": "execute_result"
    }
   ],
   "source": [
    "a2.T"
   ]
  },
  {
   "cell_type": "code",
   "execution_count": 92,
   "id": "e983a09f-feba-41d5-8208-ad5df0666766",
   "metadata": {},
   "outputs": [
    {
     "data": {
      "text/plain": [
       "(3, 2)"
      ]
     },
     "execution_count": 92,
     "metadata": {},
     "output_type": "execute_result"
    }
   ],
   "source": [
    "a2.T.shape"
   ]
  },
  {
   "cell_type": "code",
   "execution_count": 93,
   "id": "04aa3e46-e5b2-49e4-92e3-befb5dac9a21",
   "metadata": {},
   "outputs": [
    {
     "data": {
      "text/plain": [
       "array([[[ 1,  2,  3],\n",
       "        [ 4,  5,  6],\n",
       "        [ 7,  8,  9]],\n",
       "\n",
       "       [[10, 11, 12],\n",
       "        [13, 14, 15],\n",
       "        [16, 17, 18]]])"
      ]
     },
     "execution_count": 93,
     "metadata": {},
     "output_type": "execute_result"
    }
   ],
   "source": [
    "a3"
   ]
  },
  {
   "cell_type": "code",
   "execution_count": 94,
   "id": "2a3dc416-7512-473b-80af-aa34e56dd59d",
   "metadata": {},
   "outputs": [
    {
     "data": {
      "text/plain": [
       "array([[[ 1, 10],\n",
       "        [ 4, 13],\n",
       "        [ 7, 16]],\n",
       "\n",
       "       [[ 2, 11],\n",
       "        [ 5, 14],\n",
       "        [ 8, 17]],\n",
       "\n",
       "       [[ 3, 12],\n",
       "        [ 6, 15],\n",
       "        [ 9, 18]]])"
      ]
     },
     "execution_count": 94,
     "metadata": {},
     "output_type": "execute_result"
    }
   ],
   "source": [
    "a3.T"
   ]
  },
  {
   "cell_type": "code",
   "execution_count": 95,
   "id": "b9bba785-8baa-4413-a770-daae20b327e6",
   "metadata": {},
   "outputs": [
    {
     "data": {
      "text/plain": [
       "(3, 3, 2)"
      ]
     },
     "execution_count": 95,
     "metadata": {},
     "output_type": "execute_result"
    }
   ],
   "source": [
    "a3.T.shape"
   ]
  },
  {
   "cell_type": "code",
   "execution_count": 96,
   "id": "05aea049-75e9-4981-b00b-c5d8ea80a92a",
   "metadata": {},
   "outputs": [],
   "source": [
    "np.random.seed(1)\n",
    "mat1 = np.random.randint(0, 10, size=(3,5))\n",
    "mat2 = np.random.randint(0, 20, size=(3,5))"
   ]
  },
  {
   "cell_type": "code",
   "execution_count": 97,
   "id": "06d432a1-a6b5-4761-ae21-fd9345ef26a1",
   "metadata": {},
   "outputs": [
    {
     "data": {
      "text/plain": [
       "(array([[5, 8, 9, 5, 0],\n",
       "        [0, 1, 7, 6, 9],\n",
       "        [2, 4, 5, 2, 4]]),\n",
       " (3, 5))"
      ]
     },
     "execution_count": 97,
     "metadata": {},
     "output_type": "execute_result"
    }
   ],
   "source": [
    "mat1, mat1.shape"
   ]
  },
  {
   "cell_type": "code",
   "execution_count": 98,
   "id": "6c4bd2fa-b62f-4477-96b6-59bb8fd96653",
   "metadata": {},
   "outputs": [
    {
     "data": {
      "text/plain": [
       "(array([[11, 10, 14, 18,  4],\n",
       "        [ 9, 17,  0, 13,  9],\n",
       "        [ 9,  7,  1,  0, 17]]),\n",
       " (3, 5))"
      ]
     },
     "execution_count": 98,
     "metadata": {},
     "output_type": "execute_result"
    }
   ],
   "source": [
    "mat2, mat2.shape"
   ]
  },
  {
   "cell_type": "code",
   "execution_count": 99,
   "id": "f4533393-b644-4801-85b4-ed706ead4143",
   "metadata": {},
   "outputs": [
    {
     "data": {
      "text/plain": [
       "(5, 3)"
      ]
     },
     "execution_count": 99,
     "metadata": {},
     "output_type": "execute_result"
    }
   ],
   "source": [
    "mat2.T.shape"
   ]
  },
  {
   "cell_type": "code",
   "execution_count": 100,
   "id": "fc665674-a475-46ee-8468-912c574a0c70",
   "metadata": {},
   "outputs": [
    {
     "data": {
      "text/plain": [
       "array([[351, 246, 110],\n",
       "       [252, 176, 167],\n",
       "       [184, 148, 119]])"
      ]
     },
     "execution_count": 100,
     "metadata": {},
     "output_type": "execute_result"
    }
   ],
   "source": [
    "mat3 = np.dot(mat1, mat2.T)\n",
    "mat3"
   ]
  },
  {
   "cell_type": "code",
   "execution_count": 101,
   "id": "23ffd333-c43c-4c1a-8d1a-16b6d72aefc2",
   "metadata": {},
   "outputs": [
    {
     "data": {
      "text/plain": [
       "(3, 3)"
      ]
     },
     "execution_count": 101,
     "metadata": {},
     "output_type": "execute_result"
    }
   ],
   "source": [
    "mat3.shape"
   ]
  },
  {
   "cell_type": "markdown",
   "id": "db57e4f7-e6a9-42e7-9bf3-f8e6e8970610",
   "metadata": {},
   "source": [
    "#### Applying Dot Product"
   ]
  },
  {
   "cell_type": "code",
   "execution_count": 102,
   "id": "a0c03845-8656-48ec-b449-4a7d68caf314",
   "metadata": {},
   "outputs": [
    {
     "data": {
      "text/plain": [
       "array([[12, 15, 21],\n",
       "       [ 0,  3, 27],\n",
       "       [ 3,  7,  9],\n",
       "       [19, 21, 18],\n",
       "       [ 4, 23,  6]])"
      ]
     },
     "execution_count": 102,
     "metadata": {},
     "output_type": "execute_result"
    }
   ],
   "source": [
    "np.random.seed(0)\n",
    "sales_amount = np.random.randint(30, size=(5,3))\n",
    "sales_amount"
   ]
  },
  {
   "cell_type": "code",
   "execution_count": 103,
   "id": "612bbaca-c4ed-49e3-ab21-02a8d94aa50e",
   "metadata": {},
   "outputs": [
    {
     "data": {
      "text/plain": [
       "array([5, 7, 6])"
      ]
     },
     "execution_count": 103,
     "metadata": {},
     "output_type": "execute_result"
    }
   ],
   "source": [
    "prices = np.array([ 5, 7, 6])\n",
    "prices"
   ]
  },
  {
   "cell_type": "code",
   "execution_count": 104,
   "id": "4f7a1114-ede3-4ab5-8080-cac95945448a",
   "metadata": {},
   "outputs": [
    {
     "data": {
      "text/html": [
       "<div>\n",
       "<style scoped>\n",
       "    .dataframe tbody tr th:only-of-type {\n",
       "        vertical-align: middle;\n",
       "    }\n",
       "\n",
       "    .dataframe tbody tr th {\n",
       "        vertical-align: top;\n",
       "    }\n",
       "\n",
       "    .dataframe thead th {\n",
       "        text-align: right;\n",
       "    }\n",
       "</style>\n",
       "<table border=\"1\" class=\"dataframe\">\n",
       "  <thead>\n",
       "    <tr style=\"text-align: right;\">\n",
       "      <th></th>\n",
       "      <th>Banana Candy</th>\n",
       "      <th>Apple Candy</th>\n",
       "      <th>Lemon Candy</th>\n",
       "    </tr>\n",
       "  </thead>\n",
       "  <tbody>\n",
       "    <tr>\n",
       "      <th>Mon</th>\n",
       "      <td>12</td>\n",
       "      <td>15</td>\n",
       "      <td>21</td>\n",
       "    </tr>\n",
       "    <tr>\n",
       "      <th>Tue</th>\n",
       "      <td>0</td>\n",
       "      <td>3</td>\n",
       "      <td>27</td>\n",
       "    </tr>\n",
       "    <tr>\n",
       "      <th>Wed</th>\n",
       "      <td>3</td>\n",
       "      <td>7</td>\n",
       "      <td>9</td>\n",
       "    </tr>\n",
       "    <tr>\n",
       "      <th>Thu</th>\n",
       "      <td>19</td>\n",
       "      <td>21</td>\n",
       "      <td>18</td>\n",
       "    </tr>\n",
       "    <tr>\n",
       "      <th>Fri</th>\n",
       "      <td>4</td>\n",
       "      <td>23</td>\n",
       "      <td>6</td>\n",
       "    </tr>\n",
       "  </tbody>\n",
       "</table>\n",
       "</div>"
      ],
      "text/plain": [
       "     Banana Candy  Apple Candy  Lemon Candy\n",
       "Mon            12           15           21\n",
       "Tue             0            3           27\n",
       "Wed             3            7            9\n",
       "Thu            19           21           18\n",
       "Fri             4           23            6"
      ]
     },
     "execution_count": 104,
     "metadata": {},
     "output_type": "execute_result"
    }
   ],
   "source": [
    "weekly_sales_df = pd.DataFrame(sales_amount, index=[\"Mon\", \"Tue\", \"Wed\", \"Thu\", \"Fri\"], \n",
    "                              columns=[\"Banana Candy\", \"Apple Candy\", \"Lemon Candy\"])\n",
    "weekly_sales_df"
   ]
  },
  {
   "cell_type": "code",
   "execution_count": 105,
   "id": "fb1cd76f-f836-4d56-bd6f-b4e1e79f511a",
   "metadata": {},
   "outputs": [
    {
     "data": {
      "text/plain": [
       "(3,)"
      ]
     },
     "execution_count": 105,
     "metadata": {},
     "output_type": "execute_result"
    }
   ],
   "source": [
    "prices.shape"
   ]
  },
  {
   "cell_type": "code",
   "execution_count": 106,
   "id": "6f9d1334-d83b-4e1c-917b-d2de1ffb4b28",
   "metadata": {},
   "outputs": [
    {
     "data": {
      "text/html": [
       "<div>\n",
       "<style scoped>\n",
       "    .dataframe tbody tr th:only-of-type {\n",
       "        vertical-align: middle;\n",
       "    }\n",
       "\n",
       "    .dataframe tbody tr th {\n",
       "        vertical-align: top;\n",
       "    }\n",
       "\n",
       "    .dataframe thead th {\n",
       "        text-align: right;\n",
       "    }\n",
       "</style>\n",
       "<table border=\"1\" class=\"dataframe\">\n",
       "  <thead>\n",
       "    <tr style=\"text-align: right;\">\n",
       "      <th></th>\n",
       "      <th>Banana Candy</th>\n",
       "      <th>Apple Candy</th>\n",
       "      <th>Lemon Candy</th>\n",
       "    </tr>\n",
       "  </thead>\n",
       "  <tbody>\n",
       "    <tr>\n",
       "      <th>Prices</th>\n",
       "      <td>5</td>\n",
       "      <td>7</td>\n",
       "      <td>6</td>\n",
       "    </tr>\n",
       "  </tbody>\n",
       "</table>\n",
       "</div>"
      ],
      "text/plain": [
       "        Banana Candy  Apple Candy  Lemon Candy\n",
       "Prices             5            7            6"
      ]
     },
     "execution_count": 106,
     "metadata": {},
     "output_type": "execute_result"
    }
   ],
   "source": [
    "prices_df = pd.DataFrame(prices.reshape(1,3), index=[\"Prices\"], columns=[\"Banana Candy\", \"Apple Candy\", \"Lemon Candy\"])\n",
    "prices_df"
   ]
  },
  {
   "cell_type": "code",
   "execution_count": 110,
   "id": "902cf8d3-46f7-43c9-beae-599f6a3d30c4",
   "metadata": {},
   "outputs": [
    {
     "data": {
      "text/plain": [
       "((5, 3), (3, 1))"
      ]
     },
     "execution_count": 110,
     "metadata": {},
     "output_type": "execute_result"
    }
   ],
   "source": [
    "sales_amount.shape, prices.reshape(1,3).T.shape"
   ]
  },
  {
   "cell_type": "code",
   "execution_count": 111,
   "id": "b0e690ee-8d79-4941-bf32-c580e8c4f378",
   "metadata": {},
   "outputs": [
    {
     "data": {
      "text/plain": [
       "array([[291],\n",
       "       [183],\n",
       "       [118],\n",
       "       [350],\n",
       "       [217]])"
      ]
     },
     "execution_count": 111,
     "metadata": {},
     "output_type": "execute_result"
    }
   ],
   "source": [
    "total_sales = sales_amount.dot(prices.reshape(1, 3).T)\n",
    "total_sales"
   ]
  },
  {
   "cell_type": "code",
   "execution_count": 112,
   "id": "0741b5b8-d386-4344-a088-e5ae6a6d6318",
   "metadata": {},
   "outputs": [
    {
     "data": {
      "text/plain": [
       "(5, 1)"
      ]
     },
     "execution_count": 112,
     "metadata": {},
     "output_type": "execute_result"
    }
   ],
   "source": [
    "total_sales.shape"
   ]
  },
  {
   "cell_type": "code",
   "execution_count": 113,
   "id": "65b0cf65-ab9c-40da-b47c-a81dc2a0fc56",
   "metadata": {},
   "outputs": [
    {
     "data": {
      "text/html": [
       "<div>\n",
       "<style scoped>\n",
       "    .dataframe tbody tr th:only-of-type {\n",
       "        vertical-align: middle;\n",
       "    }\n",
       "\n",
       "    .dataframe tbody tr th {\n",
       "        vertical-align: top;\n",
       "    }\n",
       "\n",
       "    .dataframe thead th {\n",
       "        text-align: right;\n",
       "    }\n",
       "</style>\n",
       "<table border=\"1\" class=\"dataframe\">\n",
       "  <thead>\n",
       "    <tr style=\"text-align: right;\">\n",
       "      <th></th>\n",
       "      <th>Total Sales</th>\n",
       "    </tr>\n",
       "  </thead>\n",
       "  <tbody>\n",
       "    <tr>\n",
       "      <th>Mon</th>\n",
       "      <td>291</td>\n",
       "    </tr>\n",
       "    <tr>\n",
       "      <th>Tue</th>\n",
       "      <td>183</td>\n",
       "    </tr>\n",
       "    <tr>\n",
       "      <th>Wed</th>\n",
       "      <td>118</td>\n",
       "    </tr>\n",
       "    <tr>\n",
       "      <th>Thu</th>\n",
       "      <td>350</td>\n",
       "    </tr>\n",
       "    <tr>\n",
       "      <th>Fri</th>\n",
       "      <td>217</td>\n",
       "    </tr>\n",
       "  </tbody>\n",
       "</table>\n",
       "</div>"
      ],
      "text/plain": [
       "     Total Sales\n",
       "Mon          291\n",
       "Tue          183\n",
       "Wed          118\n",
       "Thu          350\n",
       "Fri          217"
      ]
     },
     "execution_count": 113,
     "metadata": {},
     "output_type": "execute_result"
    }
   ],
   "source": [
    "total_sales_df = pd.DataFrame(total_sales, index=[\"Mon\", \"Tue\", \"Wed\", \"Thu\", \"Fri\"], columns=[\"Total Sales\"])\n",
    "total_sales_df"
   ]
  },
  {
   "cell_type": "markdown",
   "id": "b26f8bf5-b591-44e7-9f05-f9740fb92843",
   "metadata": {},
   "source": [
    "#### Results"
   ]
  },
  {
   "cell_type": "code",
   "execution_count": 114,
   "id": "8bfb8aff-e4d0-4843-868f-0ce2c705cdbd",
   "metadata": {},
   "outputs": [
    {
     "data": {
      "text/html": [
       "<div>\n",
       "<style scoped>\n",
       "    .dataframe tbody tr th:only-of-type {\n",
       "        vertical-align: middle;\n",
       "    }\n",
       "\n",
       "    .dataframe tbody tr th {\n",
       "        vertical-align: top;\n",
       "    }\n",
       "\n",
       "    .dataframe thead th {\n",
       "        text-align: right;\n",
       "    }\n",
       "</style>\n",
       "<table border=\"1\" class=\"dataframe\">\n",
       "  <thead>\n",
       "    <tr style=\"text-align: right;\">\n",
       "      <th></th>\n",
       "      <th>Banana Candy</th>\n",
       "      <th>Apple Candy</th>\n",
       "      <th>Lemon Candy</th>\n",
       "      <th>Total Sales</th>\n",
       "    </tr>\n",
       "  </thead>\n",
       "  <tbody>\n",
       "    <tr>\n",
       "      <th>Mon</th>\n",
       "      <td>12</td>\n",
       "      <td>15</td>\n",
       "      <td>21</td>\n",
       "      <td>291</td>\n",
       "    </tr>\n",
       "    <tr>\n",
       "      <th>Tue</th>\n",
       "      <td>0</td>\n",
       "      <td>3</td>\n",
       "      <td>27</td>\n",
       "      <td>183</td>\n",
       "    </tr>\n",
       "    <tr>\n",
       "      <th>Wed</th>\n",
       "      <td>3</td>\n",
       "      <td>7</td>\n",
       "      <td>9</td>\n",
       "      <td>118</td>\n",
       "    </tr>\n",
       "    <tr>\n",
       "      <th>Thu</th>\n",
       "      <td>19</td>\n",
       "      <td>21</td>\n",
       "      <td>18</td>\n",
       "      <td>350</td>\n",
       "    </tr>\n",
       "    <tr>\n",
       "      <th>Fri</th>\n",
       "      <td>4</td>\n",
       "      <td>23</td>\n",
       "      <td>6</td>\n",
       "      <td>217</td>\n",
       "    </tr>\n",
       "  </tbody>\n",
       "</table>\n",
       "</div>"
      ],
      "text/plain": [
       "     Banana Candy  Apple Candy  Lemon Candy  Total Sales\n",
       "Mon            12           15           21          291\n",
       "Tue             0            3           27          183\n",
       "Wed             3            7            9          118\n",
       "Thu            19           21           18          350\n",
       "Fri             4           23            6          217"
      ]
     },
     "execution_count": 114,
     "metadata": {},
     "output_type": "execute_result"
    }
   ],
   "source": [
    "weekly_sales_df[\"Total Sales\"] = total_sales\n",
    "weekly_sales_df"
   ]
  },
  {
   "cell_type": "code",
   "execution_count": 115,
   "id": "90e4a736-73ab-44e6-9792-36f3178d56cf",
   "metadata": {},
   "outputs": [
    {
     "data": {
      "text/html": [
       "<div>\n",
       "<style scoped>\n",
       "    .dataframe tbody tr th:only-of-type {\n",
       "        vertical-align: middle;\n",
       "    }\n",
       "\n",
       "    .dataframe tbody tr th {\n",
       "        vertical-align: top;\n",
       "    }\n",
       "\n",
       "    .dataframe thead th {\n",
       "        text-align: right;\n",
       "    }\n",
       "</style>\n",
       "<table border=\"1\" class=\"dataframe\">\n",
       "  <thead>\n",
       "    <tr style=\"text-align: right;\">\n",
       "      <th></th>\n",
       "      <th>Banana Candy</th>\n",
       "      <th>Apple Candy</th>\n",
       "      <th>Lemon Candy</th>\n",
       "    </tr>\n",
       "  </thead>\n",
       "  <tbody>\n",
       "    <tr>\n",
       "      <th>Prices</th>\n",
       "      <td>5</td>\n",
       "      <td>7</td>\n",
       "      <td>6</td>\n",
       "    </tr>\n",
       "  </tbody>\n",
       "</table>\n",
       "</div>"
      ],
      "text/plain": [
       "        Banana Candy  Apple Candy  Lemon Candy\n",
       "Prices             5            7            6"
      ]
     },
     "execution_count": 115,
     "metadata": {},
     "output_type": "execute_result"
    }
   ],
   "source": [
    "prices_df"
   ]
  }
 ],
 "metadata": {
  "kernelspec": {
   "display_name": "Python 3 (ipykernel)",
   "language": "python",
   "name": "python3"
  },
  "language_info": {
   "codemirror_mode": {
    "name": "ipython",
    "version": 3
   },
   "file_extension": ".py",
   "mimetype": "text/x-python",
   "name": "python",
   "nbconvert_exporter": "python",
   "pygments_lexer": "ipython3",
   "version": "3.10.13"
  }
 },
 "nbformat": 4,
 "nbformat_minor": 5
}
